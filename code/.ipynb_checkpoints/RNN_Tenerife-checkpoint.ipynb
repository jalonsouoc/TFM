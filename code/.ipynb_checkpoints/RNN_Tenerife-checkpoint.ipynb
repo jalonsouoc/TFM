{
 "cells": [
  {
   "cell_type": "code",
   "execution_count": 1,
   "id": "0e35310d",
   "metadata": {},
   "outputs": [],
   "source": [
    "# Carga inicial de librerías\n",
    "import pandas as pd\n",
    "import numpy as np\n",
    "import matplotlib.pyplot as plt\n",
    "from sklearn.preprocessing import MinMaxScaler\n",
    "from keras.models import Sequential\n",
    "from keras.layers import LSTM\n",
    "from keras.layers import Dense\n",
    "from sklearn.metrics import mean_absolute_error, mean_squared_error"
   ]
  },
  {
   "cell_type": "code",
   "execution_count": 2,
   "id": "a3468777",
   "metadata": {},
   "outputs": [],
   "source": [
    "def get_X_y(datos, dias):\n",
    "    \n",
    "    X, y = [], []\n",
    "    \n",
    "    for i in range(len(datos) - dias):\n",
    "        X.append(datos[i:(i + dias), :])\n",
    "        y.append(datos[i + dias, 0])\n",
    "        \n",
    "    return np.array(X), np.array(y)\n",
    "\n",
    "def visualizar_pred_test(y_test, y_pred, fechas, tit):\n",
    "    plt.figure(figsize=(16, 6))\n",
    "    plt.plot(fechas, y_test, label='Test', color='green')\n",
    "    plt.plot(fechas, y_pred, label='Predicciones', color='orange')\n",
    "    plt.xticks(rotation=60)\n",
    "    plt.xlabel('Fechas')\n",
    "    plt.ylabel('Número de casos de COVID')\n",
    "    plt.title(tit)\n",
    "    plt.legend()\n",
    "    plt.show()\n",
    "    \n",
    "def visualizar_historico(train, test, pred, variable, dias_historico, indices, tit):\n",
    "    train_s = train.iloc[len(train) - dias_historico:]\n",
    "    \n",
    "    plt.figure(figsize=(10, 6))\n",
    "    if variable != '':\n",
    "        plt.plot(train_s.index, train_s[variable], label='Train', color='blue')\n",
    "    else:\n",
    "        plt.plot(train_s.index, train_s, label='Train', color='blue')\n",
    "    plt.plot(indices, y_test, label='Test', color='green')\n",
    "    plt.plot(indices, y_pred, label='Predicciones', color='orange')\n",
    "    \n",
    "    \n",
    "    plt.xticks(np.arange(0, len(train_s.index)  + len(indices), step=10),   train_s.index.union(indices)[::10], rotation=60)\n",
    "\n",
    "    plt.legend()\n",
    "    plt.title(tit)\n",
    "    plt.xlabel('Fecha')\n",
    "    plt.ylabel('Número de casos de COVID')\n",
    "    plt.show()\n",
    "    \n",
    "def obtener_errores(y_true, y_pred):\n",
    "    ''' Método que devuelvo los errores:\n",
    "            * MAE: Error absoluto medio\n",
    "            * MSE: Error cuadrático medio\n",
    "            * RMSE: Raíz del error cuadrático medio\n",
    "    \n",
    "    Args:\n",
    "        y_true (Serie): Valores reales del conjunto de test\n",
    "        y_pred (Serie): Valores predichos por el modelo\n",
    "    Return:\n",
    "        mae(float): Error absoluto medio\n",
    "        mse(float): Error cuadrático medio\n",
    "        rmse(float): Raíz del error cuadrático medio\n",
    "    '''\n",
    "    \n",
    "    mae = mean_absolute_error(y_true, y_pred)\n",
    "    mse = mean_squared_error(y_true, y_pred)\n",
    "    rmse = np.sqrt(mse)\n",
    "    \n",
    "    return mae, mse, rmse\n"
   ]
  },
  {
   "cell_type": "code",
   "execution_count": 3,
   "id": "a8ea171c",
   "metadata": {},
   "outputs": [],
   "source": [
    "# Cargamos los datos de las estaciones de cada una de las islas\n",
    "datos = pd.read_csv('../data/Final/datos_final.csv', header=0)\n",
    "datos_tenerife = datos[datos['isla'] == 'TENERIFE']\n",
    "datos_tenerife = datos_tenerife.set_index('fecha')\n",
    "\n",
    "variables_covid = ['pcr_total', 'Urg_ingr', 'HPT_cv19', 'CCR_cv19']\n",
    "variables_atm = ['tmin', 'tmed', 'presMax']\n",
    "variables = ['pcr_total', 'Urg_ingr', 'HPT_cv19', 'CCR_cv19','tmin', 'tmed', 'presMax']\n",
    "\n",
    "objetivo = 'numero_casos' # Variable objetivo\n",
    "dias_prediccion = 10 # días a agrupar \n",
    "\n",
    "datos_tenerife_uni = datos_tenerife[objetivo]\n",
    "datos_tenerife_uni_arr = np.array(datos_tenerife_uni).reshape(-1, 1)\n",
    "\n",
    "datos_Tenerife_mult_covid = datos_tenerife[[objetivo, 'pcr_total', 'Urg_ingr', 'HPT_cv19', 'CCR_cv19']]\n",
    "datos_Tenerife_mult_atm = datos_tenerife[[objetivo, 'tmin', 'tmed', 'presMax']]\n",
    "datos_Tenerife_mult_total = datos_tenerife[[objetivo, 'pcr_total', 'Urg_ingr', 'HPT_cv19', 'CCR_cv19','tmin', 'tmed', 'presMax']]"
   ]
  },
  {
   "cell_type": "markdown",
   "id": "998c50f2",
   "metadata": {},
   "source": [
    "# Red Neuronal Recurrente univariable"
   ]
  },
  {
   "cell_type": "code",
   "execution_count": 4,
   "id": "24649476",
   "metadata": {},
   "outputs": [],
   "source": [
    "scaler = MinMaxScaler(feature_range=(0, 1))\n",
    "datos_tenerife_uni_scaled = scaler.fit_transform(datos_tenerife_uni_arr)"
   ]
  },
  {
   "cell_type": "code",
   "execution_count": 5,
   "id": "1f0367ee",
   "metadata": {},
   "outputs": [],
   "source": [
    "n_train = len(datos_tenerife_uni_scaled) - dias_prediccion\n",
    "\n",
    "\n",
    "train = datos_tenerife_uni_scaled[0:n_train, :]\n",
    "\n",
    "# Para obtener el conjunto de test obtenemos los 10 días anteriores a test para poder conformar el problema supervisado\n",
    "test = datos_tenerife_uni_scaled[n_train - dias_prediccion:len(datos_tenerife_uni_scaled), :]"
   ]
  },
  {
   "cell_type": "code",
   "execution_count": 6,
   "id": "58897259",
   "metadata": {},
   "outputs": [],
   "source": [
    "X_train, y_train = get_X_y(train, dias_prediccion)\n",
    "X_test, y_test = get_X_y(test, dias_prediccion)\n",
    "\n",
    "X_train = np.reshape(X_train, (X_train.shape[0], X_train.shape[1], 1))\n",
    "X_test = np.reshape(X_test, (X_test.shape[0], X_test.shape[1], 1))"
   ]
  },
  {
   "cell_type": "code",
   "execution_count": null,
   "id": "2dc2780c",
   "metadata": {},
   "outputs": [],
   "source": []
  },
  {
   "cell_type": "code",
   "execution_count": 7,
   "id": "d4d99156",
   "metadata": {},
   "outputs": [
    {
     "name": "stdout",
     "output_type": "stream",
     "text": [
      "Epoch 1/50\n",
      "7/7 [==============================] - 3s 73ms/step - loss: 0.0261 - val_loss: 0.0108\n",
      "Epoch 2/50\n",
      "7/7 [==============================] - 0s 12ms/step - loss: 0.0213 - val_loss: 0.0050\n",
      "Epoch 3/50\n",
      "7/7 [==============================] - 0s 12ms/step - loss: 0.0201 - val_loss: 0.0036\n",
      "Epoch 4/50\n",
      "7/7 [==============================] - 0s 12ms/step - loss: 0.0191 - val_loss: 0.0038\n",
      "Epoch 5/50\n",
      "7/7 [==============================] - 0s 12ms/step - loss: 0.0174 - val_loss: 0.0046\n",
      "Epoch 6/50\n",
      "7/7 [==============================] - 0s 12ms/step - loss: 0.0148 - val_loss: 0.0035\n",
      "Epoch 7/50\n",
      "7/7 [==============================] - 0s 12ms/step - loss: 0.0114 - val_loss: 0.0038\n",
      "Epoch 8/50\n",
      "7/7 [==============================] - 0s 12ms/step - loss: 0.0092 - val_loss: 0.0043\n",
      "Epoch 9/50\n",
      "7/7 [==============================] - 0s 12ms/step - loss: 0.0091 - val_loss: 0.0044\n",
      "Epoch 10/50\n",
      "7/7 [==============================] - 0s 12ms/step - loss: 0.0084 - val_loss: 0.0061\n",
      "Epoch 11/50\n",
      "7/7 [==============================] - 0s 11ms/step - loss: 0.0085 - val_loss: 0.0038\n",
      "Epoch 12/50\n",
      "7/7 [==============================] - 0s 12ms/step - loss: 0.0081 - val_loss: 0.0071\n",
      "Epoch 13/50\n",
      "7/7 [==============================] - 0s 11ms/step - loss: 0.0084 - val_loss: 0.0046\n",
      "Epoch 14/50\n",
      "7/7 [==============================] - 0s 12ms/step - loss: 0.0081 - val_loss: 0.0062\n",
      "Epoch 15/50\n",
      "7/7 [==============================] - 0s 12ms/step - loss: 0.0080 - val_loss: 0.0057\n",
      "Epoch 16/50\n",
      "7/7 [==============================] - 0s 12ms/step - loss: 0.0082 - val_loss: 0.0065\n",
      "Epoch 17/50\n",
      "7/7 [==============================] - 0s 11ms/step - loss: 0.0078 - val_loss: 0.0059\n",
      "Epoch 18/50\n",
      "7/7 [==============================] - 0s 12ms/step - loss: 0.0077 - val_loss: 0.0072\n",
      "Epoch 19/50\n",
      "7/7 [==============================] - 0s 13ms/step - loss: 0.0080 - val_loss: 0.0053\n",
      "Epoch 20/50\n",
      "7/7 [==============================] - 0s 12ms/step - loss: 0.0078 - val_loss: 0.0068\n",
      "Epoch 21/50\n",
      "7/7 [==============================] - 0s 12ms/step - loss: 0.0077 - val_loss: 0.0060\n",
      "Epoch 22/50\n",
      "7/7 [==============================] - 0s 12ms/step - loss: 0.0076 - val_loss: 0.0065\n",
      "Epoch 23/50\n",
      "7/7 [==============================] - 0s 12ms/step - loss: 0.0077 - val_loss: 0.0066\n",
      "Epoch 24/50\n",
      "7/7 [==============================] - 0s 12ms/step - loss: 0.0075 - val_loss: 0.0067\n",
      "Epoch 25/50\n",
      "7/7 [==============================] - 0s 12ms/step - loss: 0.0076 - val_loss: 0.0076\n",
      "Epoch 26/50\n",
      "7/7 [==============================] - 0s 12ms/step - loss: 0.0075 - val_loss: 0.0065\n",
      "Epoch 27/50\n",
      "7/7 [==============================] - 0s 12ms/step - loss: 0.0076 - val_loss: 0.0069\n",
      "Epoch 28/50\n",
      "7/7 [==============================] - 0s 12ms/step - loss: 0.0075 - val_loss: 0.0085\n",
      "Epoch 29/50\n",
      "7/7 [==============================] - 0s 12ms/step - loss: 0.0074 - val_loss: 0.0061\n",
      "Epoch 30/50\n",
      "7/7 [==============================] - 0s 12ms/step - loss: 0.0076 - val_loss: 0.0067\n",
      "Epoch 31/50\n",
      "7/7 [==============================] - 0s 12ms/step - loss: 0.0072 - val_loss: 0.0074\n",
      "Epoch 32/50\n",
      "7/7 [==============================] - 0s 12ms/step - loss: 0.0072 - val_loss: 0.0072\n",
      "Epoch 33/50\n",
      "7/7 [==============================] - 0s 11ms/step - loss: 0.0072 - val_loss: 0.0069\n",
      "Epoch 34/50\n",
      "7/7 [==============================] - 0s 12ms/step - loss: 0.0072 - val_loss: 0.0073\n",
      "Epoch 35/50\n",
      "7/7 [==============================] - 0s 12ms/step - loss: 0.0072 - val_loss: 0.0071\n",
      "Epoch 36/50\n",
      "7/7 [==============================] - 0s 12ms/step - loss: 0.0071 - val_loss: 0.0085\n",
      "Epoch 37/50\n",
      "7/7 [==============================] - 0s 11ms/step - loss: 0.0070 - val_loss: 0.0070\n",
      "Epoch 38/50\n",
      "7/7 [==============================] - 0s 12ms/step - loss: 0.0071 - val_loss: 0.0093\n",
      "Epoch 39/50\n",
      "7/7 [==============================] - 0s 11ms/step - loss: 0.0069 - val_loss: 0.0072\n",
      "Epoch 40/50\n",
      "7/7 [==============================] - 0s 11ms/step - loss: 0.0071 - val_loss: 0.0095\n",
      "Epoch 41/50\n",
      "7/7 [==============================] - 0s 12ms/step - loss: 0.0069 - val_loss: 0.0061\n",
      "Epoch 42/50\n",
      "7/7 [==============================] - 0s 12ms/step - loss: 0.0070 - val_loss: 0.0078\n",
      "Epoch 43/50\n",
      "7/7 [==============================] - 0s 12ms/step - loss: 0.0071 - val_loss: 0.0092\n",
      "Epoch 44/50\n",
      "7/7 [==============================] - 0s 12ms/step - loss: 0.0069 - val_loss: 0.0067\n",
      "Epoch 45/50\n",
      "7/7 [==============================] - 0s 12ms/step - loss: 0.0067 - val_loss: 0.0093\n",
      "Epoch 46/50\n",
      "7/7 [==============================] - 0s 12ms/step - loss: 0.0069 - val_loss: 0.0085\n",
      "Epoch 47/50\n",
      "7/7 [==============================] - 0s 12ms/step - loss: 0.0067 - val_loss: 0.0084\n",
      "Epoch 48/50\n",
      "7/7 [==============================] - 0s 12ms/step - loss: 0.0067 - val_loss: 0.0097\n",
      "Epoch 49/50\n",
      "7/7 [==============================] - 0s 12ms/step - loss: 0.0069 - val_loss: 0.0056\n",
      "Epoch 50/50\n",
      "7/7 [==============================] - 0s 12ms/step - loss: 0.0069 - val_loss: 0.0097\n"
     ]
    },
    {
     "data": {
      "text/plain": [
       "<keras.src.callbacks.History at 0x249913b01f0>"
      ]
     },
     "execution_count": 7,
     "metadata": {},
     "output_type": "execute_result"
    }
   ],
   "source": [
    "model = Sequential()\n",
    "model.add(LSTM(14, \n",
    "               activation='relu',\n",
    "               return_sequences=True, \n",
    "               input_shape=(X_train.shape[1], 1))) \n",
    "model.add(LSTM(50, \n",
    "               activation='relu',\n",
    "               return_sequences=True)) \n",
    "model.add(LSTM(25, \n",
    "               activation='relu',\n",
    "               return_sequences=False)) \n",
    "model.add(Dense(units=1))\n",
    "model.compile(optimizer='adam', loss='mean_squared_error')\n",
    "model.fit(X_train, y_train, validation_data=(X_test, y_test), epochs=50, batch_size=64, verbose=1)\n"
   ]
  },
  {
   "cell_type": "code",
   "execution_count": 8,
   "id": "8e6b5e4f",
   "metadata": {},
   "outputs": [
    {
     "name": "stdout",
     "output_type": "stream",
     "text": [
      "1/1 [==============================] - 0s 328ms/step\n"
     ]
    }
   ],
   "source": [
    "test_pred = model.predict(X_test)\n",
    "y_pred = scaler.inverse_transform(test_pred)\n",
    "y_test = scaler.inverse_transform(y_test.reshape(-1,1))"
   ]
  },
  {
   "cell_type": "code",
   "execution_count": 9,
   "id": "98474882",
   "metadata": {},
   "outputs": [
    {
     "data": {
      "text/plain": [
       "array([[878.81146],\n",
       "       [847.9599 ],\n",
       "       [796.9384 ],\n",
       "       [748.8491 ],\n",
       "       [718.549  ],\n",
       "       [699.0435 ],\n",
       "       [658.9604 ],\n",
       "       [653.2451 ],\n",
       "       [650.2394 ],\n",
       "       [644.509  ]], dtype=float32)"
      ]
     },
     "execution_count": 9,
     "metadata": {},
     "output_type": "execute_result"
    }
   ],
   "source": [
    "y_pred"
   ]
  },
  {
   "cell_type": "code",
   "execution_count": 10,
   "id": "b1310e8a",
   "metadata": {},
   "outputs": [
    {
     "data": {
      "text/plain": [
       "array([[269.],\n",
       "       [193.],\n",
       "       [636.],\n",
       "       [760.],\n",
       "       [716.],\n",
       "       [607.],\n",
       "       [636.],\n",
       "       [266.],\n",
       "       [163.],\n",
       "       [319.]])"
      ]
     },
     "execution_count": 10,
     "metadata": {},
     "output_type": "execute_result"
    }
   ],
   "source": [
    "y_test"
   ]
  },
  {
   "cell_type": "code",
   "execution_count": 11,
   "id": "c58d34de",
   "metadata": {},
   "outputs": [
    {
     "data": {
      "image/png": "[encoded data removed]",
      "text/plain": [
       "<Figure size 1600x600 with 1 Axes>"
      ]
     },
     "metadata": {},
     "output_type": "display_data"
    }
   ],
   "source": [
    "isla = 'Tenerife'\n",
    "fechas = datos_tenerife.tail(10).index\n",
    "tit = 'Red Neuronal Recurrente univariable para la isla de ' + isla\n",
    "\n",
    "visualizar_pred_test(y_test, y_pred, fechas, tit)"
   ]
  },
  {
   "cell_type": "code",
   "execution_count": 17,
   "id": "100ffbf9",
   "metadata": {},
   "outputs": [
    {
     "ename": "KeyError",
     "evalue": "'numero_casos'",
     "output_type": "error",
     "traceback": [
      "\u001b[1;31m---------------------------------------------------------------------------\u001b[0m",
      "\u001b[1;31mKeyError\u001b[0m                                  Traceback (most recent call last)",
      "File \u001b[1;32mD:\\anaconda3\\lib\\site-packages\\pandas\\core\\indexes\\base.py:3653\u001b[0m, in \u001b[0;36mIndex.get_loc\u001b[1;34m(self, key)\u001b[0m\n\u001b[0;32m   3652\u001b[0m \u001b[38;5;28;01mtry\u001b[39;00m:\n\u001b[1;32m-> 3653\u001b[0m     \u001b[38;5;28;01mreturn\u001b[39;00m \u001b[38;5;28;43mself\u001b[39;49m\u001b[38;5;241;43m.\u001b[39;49m\u001b[43m_engine\u001b[49m\u001b[38;5;241;43m.\u001b[39;49m\u001b[43mget_loc\u001b[49m\u001b[43m(\u001b[49m\u001b[43mcasted_key\u001b[49m\u001b[43m)\u001b[49m\n\u001b[0;32m   3654\u001b[0m \u001b[38;5;28;01mexcept\u001b[39;00m \u001b[38;5;167;01mKeyError\u001b[39;00m \u001b[38;5;28;01mas\u001b[39;00m err:\n",
      "File \u001b[1;32mD:\\anaconda3\\lib\\site-packages\\pandas\\_libs\\index.pyx:147\u001b[0m, in \u001b[0;36mpandas._libs.index.IndexEngine.get_loc\u001b[1;34m()\u001b[0m\n",
      "File \u001b[1;32mD:\\anaconda3\\lib\\site-packages\\pandas\\_libs\\index.pyx:176\u001b[0m, in \u001b[0;36mpandas._libs.index.IndexEngine.get_loc\u001b[1;34m()\u001b[0m\n",
      "File \u001b[1;32mpandas\\_libs\\hashtable_class_helper.pxi:7080\u001b[0m, in \u001b[0;36mpandas._libs.hashtable.PyObjectHashTable.get_item\u001b[1;34m()\u001b[0m\n",
      "File \u001b[1;32mpandas\\_libs\\hashtable_class_helper.pxi:7088\u001b[0m, in \u001b[0;36mpandas._libs.hashtable.PyObjectHashTable.get_item\u001b[1;34m()\u001b[0m\n",
      "\u001b[1;31mKeyError\u001b[0m: 'numero_casos'",
      "\nThe above exception was the direct cause of the following exception:\n",
      "\u001b[1;31mKeyError\u001b[0m                                  Traceback (most recent call last)",
      "Cell \u001b[1;32mIn[17], line 2\u001b[0m\n\u001b[0;32m      1\u001b[0m datos_train \u001b[38;5;241m=\u001b[39m datos_tenerife_uni\u001b[38;5;241m.\u001b[39miloc[:n_train]\n\u001b[1;32m----> 2\u001b[0m \u001b[43mvisualizar_historico\u001b[49m\u001b[43m(\u001b[49m\u001b[43mdatos_train\u001b[49m\u001b[43m,\u001b[49m\u001b[43my_test\u001b[49m\u001b[43m,\u001b[49m\u001b[43my_pred\u001b[49m\u001b[43m,\u001b[49m\u001b[43mobjetivo\u001b[49m\u001b[43m,\u001b[49m\u001b[38;5;241;43m100\u001b[39;49m\u001b[43m,\u001b[49m\u001b[43mfechas\u001b[49m\u001b[43m,\u001b[49m\u001b[43mtit\u001b[49m\u001b[43m)\u001b[49m\n",
      "Cell \u001b[1;32mIn[2], line 27\u001b[0m, in \u001b[0;36mvisualizar_historico\u001b[1;34m(train, test, pred, variable, dias_historico, indices, tit)\u001b[0m\n\u001b[0;32m     25\u001b[0m plt\u001b[38;5;241m.\u001b[39mfigure(figsize\u001b[38;5;241m=\u001b[39m(\u001b[38;5;241m10\u001b[39m, \u001b[38;5;241m6\u001b[39m))\n\u001b[0;32m     26\u001b[0m \u001b[38;5;28;01mif\u001b[39;00m variable \u001b[38;5;241m!=\u001b[39m \u001b[38;5;124m'\u001b[39m\u001b[38;5;124m'\u001b[39m:\n\u001b[1;32m---> 27\u001b[0m     plt\u001b[38;5;241m.\u001b[39mplot(train_s\u001b[38;5;241m.\u001b[39mindex, \u001b[43mtrain_s\u001b[49m\u001b[43m[\u001b[49m\u001b[43mvariable\u001b[49m\u001b[43m]\u001b[49m, label\u001b[38;5;241m=\u001b[39m\u001b[38;5;124m'\u001b[39m\u001b[38;5;124mTrain\u001b[39m\u001b[38;5;124m'\u001b[39m, color\u001b[38;5;241m=\u001b[39m\u001b[38;5;124m'\u001b[39m\u001b[38;5;124mblue\u001b[39m\u001b[38;5;124m'\u001b[39m)\n\u001b[0;32m     28\u001b[0m \u001b[38;5;28;01melse\u001b[39;00m:\n\u001b[0;32m     29\u001b[0m     plt\u001b[38;5;241m.\u001b[39mplot(train_s\u001b[38;5;241m.\u001b[39mindex, train_s, label\u001b[38;5;241m=\u001b[39m\u001b[38;5;124m'\u001b[39m\u001b[38;5;124mTrain\u001b[39m\u001b[38;5;124m'\u001b[39m, color\u001b[38;5;241m=\u001b[39m\u001b[38;5;124m'\u001b[39m\u001b[38;5;124mblue\u001b[39m\u001b[38;5;124m'\u001b[39m)\n",
      "File \u001b[1;32mD:\\anaconda3\\lib\\site-packages\\pandas\\core\\series.py:1007\u001b[0m, in \u001b[0;36mSeries.__getitem__\u001b[1;34m(self, key)\u001b[0m\n\u001b[0;32m   1004\u001b[0m     \u001b[38;5;28;01mreturn\u001b[39;00m \u001b[38;5;28mself\u001b[39m\u001b[38;5;241m.\u001b[39m_values[key]\n\u001b[0;32m   1006\u001b[0m \u001b[38;5;28;01melif\u001b[39;00m key_is_scalar:\n\u001b[1;32m-> 1007\u001b[0m     \u001b[38;5;28;01mreturn\u001b[39;00m \u001b[38;5;28;43mself\u001b[39;49m\u001b[38;5;241;43m.\u001b[39;49m\u001b[43m_get_value\u001b[49m\u001b[43m(\u001b[49m\u001b[43mkey\u001b[49m\u001b[43m)\u001b[49m\n\u001b[0;32m   1009\u001b[0m \u001b[38;5;28;01mif\u001b[39;00m is_hashable(key):\n\u001b[0;32m   1010\u001b[0m     \u001b[38;5;66;03m# Otherwise index.get_value will raise InvalidIndexError\u001b[39;00m\n\u001b[0;32m   1011\u001b[0m     \u001b[38;5;28;01mtry\u001b[39;00m:\n\u001b[0;32m   1012\u001b[0m         \u001b[38;5;66;03m# For labels that don't resolve as scalars like tuples and frozensets\u001b[39;00m\n",
      "File \u001b[1;32mD:\\anaconda3\\lib\\site-packages\\pandas\\core\\series.py:1116\u001b[0m, in \u001b[0;36mSeries._get_value\u001b[1;34m(self, label, takeable)\u001b[0m\n\u001b[0;32m   1113\u001b[0m     \u001b[38;5;28;01mreturn\u001b[39;00m \u001b[38;5;28mself\u001b[39m\u001b[38;5;241m.\u001b[39m_values[label]\n\u001b[0;32m   1115\u001b[0m \u001b[38;5;66;03m# Similar to Index.get_value, but we do not fall back to positional\u001b[39;00m\n\u001b[1;32m-> 1116\u001b[0m loc \u001b[38;5;241m=\u001b[39m \u001b[38;5;28;43mself\u001b[39;49m\u001b[38;5;241;43m.\u001b[39;49m\u001b[43mindex\u001b[49m\u001b[38;5;241;43m.\u001b[39;49m\u001b[43mget_loc\u001b[49m\u001b[43m(\u001b[49m\u001b[43mlabel\u001b[49m\u001b[43m)\u001b[49m\n\u001b[0;32m   1118\u001b[0m \u001b[38;5;28;01mif\u001b[39;00m is_integer(loc):\n\u001b[0;32m   1119\u001b[0m     \u001b[38;5;28;01mreturn\u001b[39;00m \u001b[38;5;28mself\u001b[39m\u001b[38;5;241m.\u001b[39m_values[loc]\n",
      "File \u001b[1;32mD:\\anaconda3\\lib\\site-packages\\pandas\\core\\indexes\\base.py:3655\u001b[0m, in \u001b[0;36mIndex.get_loc\u001b[1;34m(self, key)\u001b[0m\n\u001b[0;32m   3653\u001b[0m     \u001b[38;5;28;01mreturn\u001b[39;00m \u001b[38;5;28mself\u001b[39m\u001b[38;5;241m.\u001b[39m_engine\u001b[38;5;241m.\u001b[39mget_loc(casted_key)\n\u001b[0;32m   3654\u001b[0m \u001b[38;5;28;01mexcept\u001b[39;00m \u001b[38;5;167;01mKeyError\u001b[39;00m \u001b[38;5;28;01mas\u001b[39;00m err:\n\u001b[1;32m-> 3655\u001b[0m     \u001b[38;5;28;01mraise\u001b[39;00m \u001b[38;5;167;01mKeyError\u001b[39;00m(key) \u001b[38;5;28;01mfrom\u001b[39;00m \u001b[38;5;21;01merr\u001b[39;00m\n\u001b[0;32m   3656\u001b[0m \u001b[38;5;28;01mexcept\u001b[39;00m \u001b[38;5;167;01mTypeError\u001b[39;00m:\n\u001b[0;32m   3657\u001b[0m     \u001b[38;5;66;03m# If we have a listlike key, _check_indexing_error will raise\u001b[39;00m\n\u001b[0;32m   3658\u001b[0m     \u001b[38;5;66;03m#  InvalidIndexError. Otherwise we fall through and re-raise\u001b[39;00m\n\u001b[0;32m   3659\u001b[0m     \u001b[38;5;66;03m#  the TypeError.\u001b[39;00m\n\u001b[0;32m   3660\u001b[0m     \u001b[38;5;28mself\u001b[39m\u001b[38;5;241m.\u001b[39m_check_indexing_error(key)\n",
      "\u001b[1;31mKeyError\u001b[0m: 'numero_casos'"
     ]
    },
    {
     "data": {
      "text/plain": [
       "<Figure size 1000x600 with 0 Axes>"
      ]
     },
     "metadata": {},
     "output_type": "display_data"
    }
   ],
   "source": [
    "datos_train = datos_tenerife_uni.iloc[:n_train]\n",
    "visualizar_historico(datos_train,y_test,y_pred,''objetivo'',100,fechas,tit)"
   ]
  },
  {
   "cell_type": "code",
   "execution_count": 16,
   "id": "4bf261d0",
   "metadata": {},
   "outputs": [
    {
     "data": {
      "text/plain": [
       "fecha\n",
       "2021-01-01      67\n",
       "2021-01-02      83\n",
       "2021-01-03      49\n",
       "2021-01-04     116\n",
       "2021-01-05      99\n",
       "              ... \n",
       "2022-03-14    1018\n",
       "2022-03-15    1052\n",
       "2022-03-16     797\n",
       "2022-03-17     588\n",
       "2022-03-18     492\n",
       "Name: numero_casos, Length: 442, dtype: int64"
      ]
     },
     "execution_count": 16,
     "metadata": {},
     "output_type": "execute_result"
    }
   ],
   "source": []
  },
  {
   "cell_type": "code",
   "execution_count": null,
   "id": "9daa19e8",
   "metadata": {},
   "outputs": [],
   "source": [
    "mae, mse, rmse = obtener_errores(y_test, y_pred)\n",
    "\n",
    "print(\"Error cuadrático medio (MSE) del modelo: \" + str(mse))\n",
    "print(\"Error absoluto medio (MAE) del modelo: \" + str(mae))\n",
    "print(\"Raíz del error cuadrático medio (RMSE) del modelo: \" + str(rmse))"
   ]
  },
  {
   "cell_type": "markdown",
   "id": "c77e1c27",
   "metadata": {},
   "source": [
    "# Red Neuronal Recurrente multivariable con variables de pandemia"
   ]
  },
  {
   "cell_type": "code",
   "execution_count": null,
   "id": "b1c43f74",
   "metadata": {},
   "outputs": [],
   "source": [
    "datos_Tenerife_mult_covid = datos_tenerife[[objetivo, 'pcr_total', 'Urg_ingr', 'HPT_cv19', 'CCR_cv19']]\n",
    "scaler = MinMaxScaler(feature_range=(0, 1))\n",
    "datos_Tenerife_mult_covid_scaled = scaler.fit_transform(datos_Tenerife_mult_covid)"
   ]
  },
  {
   "cell_type": "code",
   "execution_count": null,
   "id": "716b319c",
   "metadata": {},
   "outputs": [],
   "source": [
    "# Escalador par alas predicciones y test\n",
    "scaler_preds = MinMaxScaler(feature_range=(0, 1))\n",
    "datos_Tenerife_mult_covid_scaled_obj = scaler_preds.fit_transform(np.array(datos_Tenerife_mult_covid[objetivo]).reshape(-1, 1))"
   ]
  },
  {
   "cell_type": "code",
   "execution_count": null,
   "id": "5b515278",
   "metadata": {},
   "outputs": [],
   "source": [
    "n_train = len(datos_Tenerife_mult_covid_scaled) - dias_prediccion\n",
    "\n",
    "\n",
    "train = datos_Tenerife_mult_covid_scaled[0:n_train, :]\n",
    "\n",
    "# Para obtener el conjunto de test obtenemos los 10 días anteriores a test para poder conformar el problema supervisado\n",
    "test = datos_Tenerife_mult_covid_scaled[n_train - dias_prediccion:len(datos_Tenerife_mult_covid_scaled), :]"
   ]
  },
  {
   "cell_type": "code",
   "execution_count": null,
   "id": "cba9a448",
   "metadata": {},
   "outputs": [],
   "source": [
    "X_train, y_train = get_X_y(train, dias_prediccion)\n",
    "X_test, y_test = get_X_y(test, dias_prediccion)\n",
    "\n",
    "X_train = np.reshape(X_train, (X_train.shape[0], X_train.shape[1], X_train.shape[2]))\n",
    "X_test = np.reshape(X_test, (X_test.shape[0], X_test.shape[1], X_test.shape[2]))"
   ]
  },
  {
   "cell_type": "code",
   "execution_count": null,
   "id": "93d8e3c0",
   "metadata": {},
   "outputs": [],
   "source": [
    "model = Sequential()\n",
    "model.add(LSTM(X_train.shape[1] * X_train.shape[2], \n",
    "               activation='relu',\n",
    "               return_sequences=True, \n",
    "               input_shape=(X_train.shape[1], X_train.shape[2]))) \n",
    "model.add(LSTM(60, \n",
    "               activation='relu',\n",
    "               return_sequences=True)) \n",
    "model.add(LSTM(25, \n",
    "               activation='relu',\n",
    "               return_sequences=False)) \n",
    "model.add(Dense(units=1))\n",
    "model.compile(optimizer='adam', loss='mean_squared_error')\n",
    "model.fit(X_train, y_train, validation_data=(X_test, y_test), epochs=50, batch_size=64, verbose=1)\n"
   ]
  },
  {
   "cell_type": "code",
   "execution_count": null,
   "id": "68aa648e",
   "metadata": {},
   "outputs": [],
   "source": [
    "test_pred = model.predict(X_test)\n",
    "y_pred = scaler_preds.inverse_transform(test_pred)\n",
    "y_test = scaler_preds.inverse_transform(y_test.reshape(-1,1))"
   ]
  },
  {
   "cell_type": "code",
   "execution_count": null,
   "id": "5c7f5cd0",
   "metadata": {},
   "outputs": [],
   "source": [
    "y_pred"
   ]
  },
  {
   "cell_type": "code",
   "execution_count": null,
   "id": "619a7c7e",
   "metadata": {},
   "outputs": [],
   "source": [
    "tit = 'Red Neuronal Recurrente multivariable con variables pandémicas para la isla de ' + isla\n",
    "\n",
    "visualizar_pred_test(y_test, y_pred, fechas, tit)"
   ]
  },
  {
   "cell_type": "code",
   "execution_count": null,
   "id": "6f7de110",
   "metadata": {},
   "outputs": [],
   "source": [
    "datos_train = datos_Tenerife_mult_covid.iloc[:n_train, :]\n",
    "visualizar_historico(datos_train,y_test,y_pred,objetivo,100,fechas,tit)"
   ]
  },
  {
   "cell_type": "code",
   "execution_count": null,
   "id": "8b9ab9ac",
   "metadata": {},
   "outputs": [],
   "source": [
    "mae, mse, rmse = obtener_errores(y_test, y_pred)\n",
    "\n",
    "print(\"Error cuadrático medio (MSE) del modelo: \" + str(mse))\n",
    "print(\"Error absoluto medio (MAE) del modelo: \" + str(mae))\n",
    "print(\"Raíz del error cuadrático medio (RMSE) del modelo: \" + str(rmse))"
   ]
  },
  {
   "cell_type": "markdown",
   "id": "ffdb8419",
   "metadata": {},
   "source": [
    "# Red Neuronal Recurrente multivariable con variables atmosféricas"
   ]
  },
  {
   "cell_type": "code",
   "execution_count": null,
   "id": "4480522e",
   "metadata": {},
   "outputs": [],
   "source": [
    "scaler = MinMaxScaler(feature_range=(0, 1))\n",
    "datos_Tenerife_mult_atm_scaled = scaler.fit_transform(datos_Tenerife_mult_atm)\n",
    "\n",
    "# Escalador par alas predicciones y test\n",
    "scaler_preds = MinMaxScaler(feature_range=(0, 1))\n",
    "datos_Tenerife_mult_atm_scaled_obj = scaler_preds.fit_transform(np.array(datos_Tenerife_mult_atm[objetivo]).reshape(-1, 1))"
   ]
  },
  {
   "cell_type": "code",
   "execution_count": null,
   "id": "0a0ecba9",
   "metadata": {},
   "outputs": [],
   "source": [
    "n_train = len(datos_Tenerife_mult_atm_scaled) - dias_prediccion\n",
    "\n",
    "\n",
    "train = datos_Tenerife_mult_atm_scaled[0:n_train, :]\n",
    "\n",
    "# Para obtener el conjunto de test obtenemos los 10 días anteriores a test para poder conformar el problema supervisado\n",
    "test = datos_Tenerife_mult_atm_scaled[n_train - dias_prediccion:len(datos_Tenerife_mult_atm_scaled), :]"
   ]
  },
  {
   "cell_type": "code",
   "execution_count": null,
   "id": "3209e548",
   "metadata": {},
   "outputs": [],
   "source": [
    "X_train, y_train = get_X_y(train, dias_prediccion)\n",
    "X_test, y_test = get_X_y(test, dias_prediccion)\n",
    "\n",
    "X_train = np.reshape(X_train, (X_train.shape[0], X_train.shape[1], X_train.shape[2]))\n",
    "X_test = np.reshape(X_test, (X_test.shape[0], X_test.shape[1], X_test.shape[2]))"
   ]
  },
  {
   "cell_type": "code",
   "execution_count": null,
   "id": "80ea83c7",
   "metadata": {},
   "outputs": [],
   "source": [
    "model = Sequential()\n",
    "model.add(LSTM(X_train.shape[1] * X_train.shape[2], \n",
    "               activation='relu',\n",
    "               return_sequences=True, \n",
    "               input_shape=(X_train.shape[1], X_train.shape[2]))) \n",
    "model.add(LSTM(60, \n",
    "               activation='relu',\n",
    "               return_sequences=True)) \n",
    "model.add(LSTM(25, \n",
    "               activation='relu',\n",
    "               return_sequences=False)) \n",
    "model.add(Dense(units=1))\n",
    "model.compile(optimizer='adam', loss='mean_squared_error')\n",
    "model.fit(X_train, y_train, validation_data=(X_test, y_test), epochs=50, batch_size=64, verbose=1)"
   ]
  },
  {
   "cell_type": "code",
   "execution_count": null,
   "id": "412de22d",
   "metadata": {},
   "outputs": [],
   "source": [
    "test_pred = model.predict(X_test)\n",
    "y_pred = scaler_preds.inverse_transform(test_pred)\n",
    "y_test = scaler_preds.inverse_transform(y_test.reshape(-1,1))"
   ]
  },
  {
   "cell_type": "code",
   "execution_count": null,
   "id": "8d52e119",
   "metadata": {},
   "outputs": [],
   "source": [
    "y_pred"
   ]
  },
  {
   "cell_type": "code",
   "execution_count": null,
   "id": "8eb7dcac",
   "metadata": {},
   "outputs": [],
   "source": [
    "tit = 'Red Neuronal Recurrente multivariable con variables atmosféricas para la isla de ' + isla\n",
    "\n",
    "visualizar_pred_test(y_test, y_pred, fechas, tit)"
   ]
  },
  {
   "cell_type": "code",
   "execution_count": null,
   "id": "eaf9ac07",
   "metadata": {},
   "outputs": [],
   "source": [
    "datos_train = datos_Tenerife_mult_covid.iloc[:n_train, :]\n",
    "visualizar_historico(datos_train,y_test,y_pred,objetivo,100,fechas,tit)"
   ]
  },
  {
   "cell_type": "code",
   "execution_count": null,
   "id": "09ed25fe",
   "metadata": {},
   "outputs": [],
   "source": [
    "mae, mse, rmse = obtener_errores(y_test, y_pred)\n",
    "\n",
    "print(\"Error cuadrático medio (MSE) del modelo: \" + str(mse))\n",
    "print(\"Error absoluto medio (MAE) del modelo: \" + str(mae))\n",
    "print(\"Raíz del error cuadrático medio (RMSE) del modelo: \" + str(rmse))"
   ]
  },
  {
   "cell_type": "markdown",
   "id": "eb44f15c",
   "metadata": {},
   "source": [
    "# Red Neuronal Recurrente multivariable con todas las variables"
   ]
  },
  {
   "cell_type": "code",
   "execution_count": null,
   "id": "be607edf",
   "metadata": {},
   "outputs": [],
   "source": [
    "scaler = MinMaxScaler(feature_range=(0, 1))\n",
    "datos_Tenerife_mult_total_scaled = scaler.fit_transform(datos_Tenerife_mult_total)\n",
    "\n",
    "# Escalador par alas predicciones y test\n",
    "scaler_preds = MinMaxScaler(feature_range=(0, 1))\n",
    "datos_Tenerife_mult_total_scaled_obj = scaler_preds.fit_transform(np.array(datos_Tenerife_mult_total[objetivo]).reshape(-1, 1))"
   ]
  },
  {
   "cell_type": "code",
   "execution_count": null,
   "id": "08e352a9",
   "metadata": {},
   "outputs": [],
   "source": [
    "n_train = len(datos_Tenerife_mult_total_scaled) - dias_prediccion\n",
    "\n",
    "\n",
    "train = datos_Tenerife_mult_total_scaled[0:n_train, :]\n",
    "\n",
    "# Para obtener el conjunto de test obtenemos los 10 días anteriores a test para poder conformar el problema supervisado\n",
    "test = datos_Tenerife_mult_total_scaled[n_train - dias_prediccion:len(datos_Tenerife_mult_total_scaled), :]"
   ]
  },
  {
   "cell_type": "code",
   "execution_count": null,
   "id": "bc8a3f40",
   "metadata": {},
   "outputs": [],
   "source": [
    "X_train, y_train = get_X_y(train, dias_prediccion)\n",
    "X_test, y_test = get_X_y(test, dias_prediccion)\n",
    "\n",
    "X_train = np.reshape(X_train, (X_train.shape[0], X_train.shape[1], X_train.shape[2]))\n",
    "X_test = np.reshape(X_test, (X_test.shape[0], X_test.shape[1], X_test.shape[2]))"
   ]
  },
  {
   "cell_type": "code",
   "execution_count": null,
   "id": "de6adecb",
   "metadata": {},
   "outputs": [],
   "source": [
    "model = Sequential()\n",
    "model.add(LSTM(X_train.shape[1] * X_train.shape[2], \n",
    "               activation='relu',\n",
    "               return_sequences=True, \n",
    "               input_shape=(X_train.shape[1], X_train.shape[2]))) \n",
    "model.add(LSTM(60, \n",
    "               activation='relu',\n",
    "               return_sequences=True)) \n",
    "model.add(LSTM(25, \n",
    "               activation='relu',\n",
    "               return_sequences=False)) \n",
    "model.add(Dense(units=1))\n",
    "model.compile(optimizer='adam', loss='mean_squared_error')\n",
    "model.fit(X_train, y_train, validation_data=(X_test, y_test), epochs=50, batch_size=64, verbose=1)"
   ]
  },
  {
   "cell_type": "code",
   "execution_count": null,
   "id": "cade4d02",
   "metadata": {},
   "outputs": [],
   "source": [
    "test_pred = model.predict(X_test)\n",
    "y_pred = scaler_preds.inverse_transform(test_pred)\n",
    "y_test = scaler_preds.inverse_transform(y_test.reshape(-1,1))"
   ]
  },
  {
   "cell_type": "code",
   "execution_count": null,
   "id": "74618f04",
   "metadata": {},
   "outputs": [],
   "source": [
    "y_pred"
   ]
  },
  {
   "cell_type": "code",
   "execution_count": null,
   "id": "41d31b30",
   "metadata": {},
   "outputs": [],
   "source": [
    "tit = 'Red Neuronal Recurrente multivariable con todas las variables para la isla de ' + isla\n",
    "\n",
    "visualizar_pred_test(y_test, y_pred, fechas, tit)"
   ]
  },
  {
   "cell_type": "code",
   "execution_count": null,
   "id": "dacf6db8",
   "metadata": {},
   "outputs": [],
   "source": [
    "datos_train = datos_Tenerife_mult_total.iloc[:n_train, :]\n",
    "visualizar_historico(datos_train,y_test,y_pred,objetivo,100,fechas,tit)"
   ]
  },
  {
   "cell_type": "code",
   "execution_count": null,
   "id": "79b82c91",
   "metadata": {},
   "outputs": [],
   "source": [
    "mae, mse, rmse = obtener_errores(y_test, y_pred)\n",
    "\n",
    "print(\"Error cuadrático medio (MSE) del modelo: \" + str(mse))\n",
    "print(\"Error absoluto medio (MAE) del modelo: \" + str(mae))\n",
    "print(\"Raíz del error cuadrático medio (RMSE) del modelo: \" + str(rmse))"
   ]
  },
  {
   "cell_type": "code",
   "execution_count": null,
   "id": "ea72be6b",
   "metadata": {},
   "outputs": [],
   "source": []
  }
 ],
 "metadata": {
  "kernelspec": {
   "display_name": "Python 3 (ipykernel)",
   "language": "python",
   "name": "python3"
  },
  "language_info": {
   "codemirror_mode": {
    "name": "ipython",
    "version": 3
   },
   "file_extension": ".py",
   "mimetype": "text/x-python",
   "name": "python",
   "nbconvert_exporter": "python",
   "pygments_lexer": "ipython3",
   "version": "3.8.18"
  }
 },
 "nbformat": 4,
 "nbformat_minor": 5
}
