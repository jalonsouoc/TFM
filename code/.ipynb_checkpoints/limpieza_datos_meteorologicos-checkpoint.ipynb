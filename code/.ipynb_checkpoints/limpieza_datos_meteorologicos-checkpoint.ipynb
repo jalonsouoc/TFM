{
 "cells": [
  {
   "cell_type": "code",
   "execution_count": 18,
   "id": "48d097f4-8cba-4bd5-b77a-aff8142f510b",
   "metadata": {},
   "outputs": [],
   "source": [
    "# Carga inicial de librerías\n",
    "import pandas as pd\n",
    "from datetime import datetime"
   ]
  },
  {
   "cell_type": "code",
   "execution_count": 4,
   "id": "7b62f67f-1a63-41cd-b228-ab649767e88b",
   "metadata": {},
   "outputs": [],
   "source": [
    "# Cargamos los datos de las estaciones de cada una de las islas\n",
    "datos_aemet_Tenerife = pd.read_csv('../data/inicial/datos_meteorologicos/datos_atmosfericos_Tenerife.csv', header=0)\n",
    "datos_aemet_LaPalma = pd.read_csv('../data/inicial/datos_meteorologicos/datos_atmosfericos_La Palma.csv', header=0)\n",
    "datos_aemet_ElHierro = pd.read_csv('../data/inicial/datos_meteorologicos/datos_atmosfericos_El Hierro.csv', header=0)\n",
    "datos_aemet_LaGomera = pd.read_csv('../data/inicial/datos_meteorologicos/datos_atmosfericos_La Gomera.csv', header=0)\n",
    "datos_aemet_GranCanaria = pd.read_csv('../data/inicial/datos_meteorologicos/datos_atmosfericos_Gran Canaria.csv', header=0)\n",
    "datos_aemet_Lanzarote = pd.read_csv('../data/inicial/datos_meteorologicos/datos_atmosfericos_Lanzarote.csv', header=0)\n",
    "datos_aemet_Fuerteventura = pd.read_csv('../data/inicial/datos_meteorologicos/datos_atmosfericos_Fuerteventura.csv', header=0)"
   ]
  },
  {
   "cell_type": "code",
   "execution_count": 5,
   "id": "ee4367d3-1cef-4f42-a02e-c92d32bbb99e",
   "metadata": {},
   "outputs": [],
   "source": [
    "# Listado con todos los datos de cada isla\n",
    "lista_datos_islas = [datos_aemet_Tenerife, datos_aemet_LaPalma, datos_aemet_ElHierro, datos_aemet_LaGomera, datos_aemet_GranCanaria, datos_aemet_Lanzarote, datos_aemet_Fuerteventura]\n",
    "\n",
    "# Unimos los datos en un solo DataFrame\n",
    "datos_aemet = pd.concat(lista_datos_islas, ignore_index=True)"
   ]
  },
  {
   "cell_type": "code",
   "execution_count": 30,
   "id": "885169b7-4ab5-46dc-b84b-c9137cd59f1b",
   "metadata": {},
   "outputs": [
    {
     "name": "stdout",
     "output_type": "stream",
     "text": [
      "Número de atributos: 26\n",
      "Número de filas : 3165\n",
      "Nombre de los atributos: ['fecha' 'indicativo' 'nombre' 'provincia' 'altitud' 'tmed' 'prec' 'tmin'\n",
      " 'horatmin' 'tmax' 'horatmax' 'dir' 'velmedia' 'racha' 'horaracha' 'sol'\n",
      " 'presMax' 'horaPresMax' 'presMin' 'horaPresMin' 'hrMedia' 'hrMax'\n",
      " 'horaHrMax' 'hrMin' 'horaHrMin' 'isla']\n"
     ]
    }
   ],
   "source": [
    "#Obtenemos las dimensiones del dataframe\n",
    "shape = datos_aemet.shape\n",
    "\n",
    "print(\"Número de atributos:\", shape[1])\n",
    "print(\"Número de filas :\", shape[0])\n",
    "print(\"Nombre de los atributos:\", datos_aemet.columns.values)"
   ]
  },
  {
   "cell_type": "markdown",
   "id": "39df27ad-c5cc-4738-9fb0-a00b5071cb78",
   "metadata": {},
   "source": [
    "Este dataset contiene 3165 registros que corresponden con los datos de casos de covid en las Islas Canarias y 26 variabless que los caracterizan. La descripción de las variables obtenidas son:\n",
    "\n",
    "\n",
    "\n",
    "* **fecha:** Fecha de los datos.\n",
    "* ***indicativo:** Indicativo climatológico.\n",
    "* **nombre:** Nombre de la estación.\n",
    "* **provincia:** Provincia de la estación.\n",
    "* **altitud:** Altitud de la estación.\n",
    "* **tmed:** Temperatura media diaria.\n",
    "* **prec:** Precipitación diaria.\n",
    "* **tmin:** Temperatura mínima del día.\n",
    "* **horatmin:** Hora y minuto de la temperatura mínima.\n",
    "* **tmax:** Temperatura máxima del día.\n",
    "* **horatmax:** Hora y minuto de la temperatura máxima.\n",
    "* **dir:** Dirección de la raxha máxima\n",
    "* **velmed:** Velocidad media del viento.\n",
    "* **racha:** Racha máxima del viento.\n",
    "* **horaracha:** Hora y minuto de la racha máxima.\n",
    "* **sol:** Insolación\n",
    "* **presMax:** Presión máxima al nivel de referencia de la estación\n",
    "* **horaPresMax:** Hora de la presión máxima.\n",
    "* **presMin:** Presión mínima al nivel de referencia de la estación.\n",
    "* **horaPresMin:** Hora de la presión mínima.\n",
    "* **hrMedia:** Humedad relativa media diaria.\n",
    "* **hrMax:** Humedad relativa máxima diaria.\n",
    "* **horaHrMax:** Hora de la humedad relativa máxima.\n",
    "* **hrMin:** Humedad relativa mínima diaria\n",
    "* **horaHrMin:** Hora de la humedad relativa mínima.\n",
    "* **isla:** Isla a la que pertenecen los datos."
   ]
  },
  {
   "cell_type": "code",
   "execution_count": 21,
   "id": "c7245367-865c-43c7-9499-268516c546bc",
   "metadata": {},
   "outputs": [
    {
     "name": "stdout",
     "output_type": "stream",
     "text": [
      "Valores de islas: ['Tenerife' 'La Palma' 'El Hierro' 'La Gomera' 'Gran Canaria' 'Lanzarote'\n",
      " 'Fuerteventura']\n"
     ]
    }
   ],
   "source": [
    "# Obtenemos el listado de islas del conjunto de datos\n",
    "valores_islas = datos_aemet['isla'].unique()\n",
    "print(\"Valores de islas:\", valores_islas)"
   ]
  },
  {
   "cell_type": "code",
   "execution_count": 22,
   "id": "e293bb55-ff05-4c57-b764-aad54b74bd04",
   "metadata": {},
   "outputs": [],
   "source": [
    "# Fecha inicial desde la que se tienen los datos de casos de COVID\n",
    "fecha_inicio = datetime(2021, 1, 1)\n",
    "# Fecha final hasta la que se tienen los datos de casos de COVID\n",
    "fecha_fin = datetime(2021, 3, 29)\n",
    "# Rango de fechas de la que tenemos datos de casos de COVID\n",
    "rango_fechas = pd.date_range(start=fecha_inicio, end=fecha_fin, freq='D')\n",
    "\n",
    "def comprobar_fechas_isla(df):\n",
    "    '''Compruba si existe alguna fecha para lo que no se tenga datos de una isla\n",
    "    \n",
    "    Args:\n",
    "    df (DataFrame): DataFrame con los datos de la serie temporal de los casos de COVID para una isla\n",
    "    \n",
    "    Returns:\n",
    "    fechas_faltantes (list): Listado con las fechas para las que no se tiene datos\n",
    "    '''\n",
    "    fechas_faltantes = rango_fechas[~rango_fechas.isin(df['fecha'])]\n",
    "    if len(fechas_faltantes) == 0:\n",
    "        return []\n",
    "    else:\n",
    "        return fechas_faltantes.tolist()\n",
    "        # Convertir las fechas a strings\n",
    "        #fechas_str = [str(fecha) for fecha in fechas_faltantes]\n",
    "        #fechas_str = ','.join(fechas_str)\n",
    "        \n",
    "        #return fechas_str\n",
    "\n",
    "\n",
    "def comprobar_fechas(df):\n",
    "    '''Realiza la comprobación para cada una de las islas del DataFrame si existe alguna fecha sin datos\n",
    "    \n",
    "    Args:\n",
    "        df (DataFrame): DataFrame con los datos de la serie temporal de los casos de COVID de todas las islas\n",
    "    '''\n",
    "    for isla in valores_islas:\n",
    "        print('Fechas faltantes para ' + isla + ': ' + str(comprobar_fechas_isla(df[df['isla'] == isla])))"
   ]
  },
  {
   "cell_type": "code",
   "execution_count": 28,
   "id": "9db7edc1-d847-472d-af19-9a383f21f666",
   "metadata": {},
   "outputs": [
    {
     "name": "stderr",
     "output_type": "stream",
     "text": [
      "C:\\Users\\jalon\\AppData\\Local\\Temp\\ipykernel_14884\\1439997631.py:17: FutureWarning: The behavior of 'isin' with dtype=datetime64[ns] and castable values (e.g. strings) is deprecated. In a future version, these will not be considered matching by isin. Explicitly cast to the appropriate dtype before calling isin instead.\n",
      "  fechas_faltantes = rango_fechas[~rango_fechas.isin(df['fecha'])]\n"
     ]
    },
    {
     "data": {
      "text/plain": [
       "[]"
      ]
     },
     "execution_count": 28,
     "metadata": {},
     "output_type": "execute_result"
    }
   ],
   "source": []
  },
  {
   "cell_type": "code",
   "execution_count": null,
   "id": "a39c8911-7bce-4c2f-8cc9-b3f114e5f074",
   "metadata": {},
   "outputs": [],
   "source": []
  }
 ],
 "metadata": {
  "kernelspec": {
   "display_name": "Python 3 (ipykernel)",
   "language": "python",
   "name": "python3"
  },
  "language_info": {
   "codemirror_mode": {
    "name": "ipython",
    "version": 3
   },
   "file_extension": ".py",
   "mimetype": "text/x-python",
   "name": "python",
   "nbconvert_exporter": "python",
   "pygments_lexer": "ipython3",
   "version": "3.9.18"
  }
 },
 "nbformat": 4,
 "nbformat_minor": 5
}
