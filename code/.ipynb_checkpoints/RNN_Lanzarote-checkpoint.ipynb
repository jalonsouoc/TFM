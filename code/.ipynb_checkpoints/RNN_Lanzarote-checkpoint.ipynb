{
 "cells": [
  {
   "cell_type": "markdown",
   "id": "e95bc717",
   "metadata": {},
   "source": [
    "# Estudio de la evolución de la pandemia por el modelo de red neuronal recurrente para la isla de Lanzarote"
   ]
  },
  {
   "cell_type": "code",
   "execution_count": 1,
   "id": "dbbd4526",
   "metadata": {},
   "outputs": [],
   "source": [
    "# Carga inicial de librerías\n",
    "import pandas as pd\n",
    "import numpy as np\n",
    "import matplotlib.pyplot as plt\n",
    "from sklearn.preprocessing import MinMaxScaler\n",
    "from keras.models import Sequential\n",
    "from keras.layers import LSTM, Dense, Dropout, Input\n",
    "from sklearn.metrics import mean_absolute_error, mean_squared_error\n",
    "from keras import regularizers"
   ]
  },
  {
   "cell_type": "code",
   "execution_count": 2,
   "id": "80adaf2f",
   "metadata": {},
   "outputs": [],
   "source": [
    "def get_X_y(datos, dias):\n",
    "    \n",
    "    X, y = [], []\n",
    "    \n",
    "    for i in range(len(datos) - dias):\n",
    "        X.append(datos[i:(i + dias), :])\n",
    "        y.append(datos[i + dias, 0])\n",
    "        \n",
    "    return np.array(X), np.array(y)\n",
    "\n",
    "def visualizar_pred_test(y_test, y_pred, fechas, tit):\n",
    "    #plt.figure(figsize=(16, 6))\n",
    "    plt.plot(fechas, y_test, label='Test', color='green')\n",
    "    plt.plot(fechas, y_pred, label='Predicciones', color='orange')\n",
    "    plt.xticks(rotation=60)\n",
    "    plt.xlabel('Fechas')\n",
    "    plt.ylabel('Número de casos de COVID')\n",
    "    plt.title(tit)\n",
    "    plt.gca().set_facecolor('lightgrey')\n",
    "    plt.grid(True, linestyle='--', linewidth=0.5, color='white')\n",
    "    plt.legend()\n",
    "    plt.show()\n",
    "    \n",
    "def visualizar_historico(train, y_test, y_pred, variable, dias_historico, indices, tit, color, dif):\n",
    "    train_s = train.iloc[len(train) - dias_historico:]\n",
    "    \n",
    "    plt.figure(figsize=(10, 6))\n",
    "    if variable != '':\n",
    "        plt.plot(train_s.index, train_s[variable], label='Train', color=color_isla)\n",
    "    else:\n",
    "        plt.plot(train_s.index, train_s, label='Train', color=color_isla)\n",
    "    plt.plot(indices, y_test, label='Test', color='green')\n",
    "    plt.plot(indices, y_pred, label='Predicciones', color='orange')\n",
    "    plt.bar(indices, dif, width=0.5, color='black', alpha=0.2, align='edge', label='Diferencia')\n",
    "    \n",
    "    plt.xticks(np.arange(0, len(train_s.index)  + len(indices), step=5),   train_s.index.union(indices)[::5], rotation=70)\n",
    "    plt.gca().set_facecolor('lightgrey')\n",
    "    plt.grid(True, linestyle='--', linewidth=0.5, color='white')\n",
    "\n",
    "    plt.legend()\n",
    "    plt.title(tit)\n",
    "    plt.xlabel('Fecha')\n",
    "    plt.ylabel('Número de casos de COVID')\n",
    "    plt.show()\n",
    "    \n",
    "def obtener_modelo_red_neuronal(X_train, y_train, X_test, y_test):\n",
    "    modelo = Sequential()\n",
    "    neurons= X_train.shape[1]\n",
    "    modelo.add(Input(shape=(X_train.shape[1], X_train.shape[2])))\n",
    "    modelo.add(LSTM(X_train.shape[1] * X_train.shape[2], \n",
    "                   activation='relu',\n",
    "                   return_sequences=True))\n",
    "    modelo.add(Dropout(0.2))\n",
    "    modelo.add(LSTM(50, \n",
    "                   activation='relu',\n",
    "                   return_sequences=True))\n",
    "    modelo.add(Dropout(0.2))\n",
    "    modelo.add(LSTM(25, \n",
    "                   activation='relu',\n",
    "                   return_sequences=False))\n",
    "    modelo.add(Dropout(0.2))\n",
    "    #modelo.add(Dense(5, activation='relu'))\n",
    "    modelo.add(Dense(units=1, kernel_regularizer=regularizers.l2(0.01)))\n",
    "    modelo.compile(optimizer='rmsprop', loss='mean_squared_error')\n",
    "    historico = modelo.fit(X_train, y_train, validation_data=(X_test, y_test), epochs=40, batch_size=32, verbose=2)\n",
    "    \n",
    "    return modelo, historico\n",
    "    \n",
    "def obtener_errores(y_true, y_pred):\n",
    "    ''' Método que devuelvo los errores:\n",
    "            * MAE: Error absoluto medio\n",
    "            * MSE: Error cuadrático medio\n",
    "            * RMSE: Raíz del error cuadrático medio\n",
    "    \n",
    "    Args:\n",
    "        y_true (Serie): Valores reales del conjunto de test\n",
    "        y_pred (Serie): Valores predichos por el modelo\n",
    "    Return:\n",
    "        mae(float): Error absoluto medio\n",
    "        mse(float): Error cuadrático medio\n",
    "        rmse(float): Raíz del error cuadrático medio\n",
    "    '''\n",
    "    \n",
    "    mae = mean_absolute_error(y_true, y_pred)\n",
    "    mse = mean_squared_error(y_true, y_pred)\n",
    "    rmse = np.sqrt(mse)\n",
    "    \n",
    "    return mae, mse, rmse\n",
    "\n",
    "def visualizar_resultados_texto(y_test, y_pred, fechas):\n",
    "    for i in range(len(y_test)):\n",
    "        print(str(fechas[i]) + ': número de casos reales ' + str(int(y_test[i][0])) + ', número de casos predichos ' + str(y_pred[i][0]))\n",
    "        \n",
    "def visualizar_perdida(historico):\n",
    "    plt.plot(historico.history['loss'], label='train')\n",
    "    plt.plot(historico.history['val_loss'], label='test')\n",
    "    plt.gca().set_facecolor('lightgrey')\n",
    "    plt.grid(True, linestyle='--', linewidth=0.5, color='white')\n",
    "    plt.title('Pérdida del modelo')\n",
    "    plt.legend()\n",
    "    plt.show() "
   ]
  },
  {
   "cell_type": "code",
   "execution_count": 3,
   "id": "08b69a3c",
   "metadata": {},
   "outputs": [],
   "source": [
    "# Cargamos los datos de las estaciones de cada una de las islas\n",
    "datos = pd.read_csv('../data/Final/datos_final.csv', header=0)\n",
    "datos_Lanzarote = datos[datos['isla'] == 'LANZAROTE']\n",
    "\n",
    "datos_Lanzarote = datos_Lanzarote.set_index('fecha') # Asignamos la fecha como índice"
   ]
  },
  {
   "cell_type": "code",
   "execution_count": 4,
   "id": "12b97c96",
   "metadata": {},
   "outputs": [],
   "source": [
    "# Variables globales a utilizar en todo el proceso\n",
    "\n",
    "objetivo = 'numero_casos' # Variable objetivo\n",
    "dias_prediccion = 10      # días a predecir y a agrupar para cada predicción\n",
    "isla = 'Lanzarote'         # Isla a la que se está realziando el estudio\n",
    "fechas = datos_Lanzarote.tail(dias_prediccion).index # Fechas de los días a predecir\n",
    "color_isla = 'firebrick' # Color de la isla en las visualizaciones\n",
    "n_dias_train_vis = 100    # Número de días del conjunto de train a visualizar en el conjunto de train\n",
    "\n",
    "variables_covid = [objetivo, 'pcr_total', 'Urg_cv', 'HPT_cv19', 'CCR_cv19']    # Atributos para el análisis de las variables pandémicas\n",
    "variables_atm = [objetivo, 'tmin', 'tmed', 'presMax']                            # Atributos para el análisis de las variables atmosféricas\n",
    "variables = [objetivo,'pcr_total', 'Urg_cv', 'HPT_cv19', 'CCR_cv19','tmin', 'tmed', 'presMax'] # Atributos para el análisis de todas las variables\n"
   ]
  },
  {
   "cell_type": "code",
   "execution_count": 5,
   "id": "4f409ab6",
   "metadata": {},
   "outputs": [],
   "source": [
    "# Cargamos los datos de cada estudio con sus atributos correspondientes\n",
    "datos_Lanzarote_uni = datos_Lanzarote[objetivo]\n",
    "datos_Lanzarote_uni_arr = np.array(datos_Lanzarote_uni).reshape(-1, 1)\n",
    "\n",
    "datos_Lanzarote_mult_covid = datos_Lanzarote[variables_covid]\n",
    "datos_Lanzarote_mult_atm = datos_Lanzarote[variables_atm]\n",
    "datos_Lanzarote_mult_total = datos_Lanzarote[variables]"
   ]
  },
  {
   "cell_type": "markdown",
   "id": "b608899c",
   "metadata": {},
   "source": [
    "# Red Neuronal Recurrente univariable"
   ]
  },
  {
   "cell_type": "code",
   "execution_count": 6,
   "id": "2de5ea33",
   "metadata": {},
   "outputs": [],
   "source": [
    "scaler = MinMaxScaler(feature_range=(0, 1))\n",
    "datos_Lanzarote_uni_scaled = scaler.fit_transform(datos_Lanzarote_uni_arr)"
   ]
  },
  {
   "cell_type": "code",
   "execution_count": 7,
   "id": "012cb9dd",
   "metadata": {},
   "outputs": [],
   "source": [
    "n_train = len(datos_Lanzarote_uni_scaled) - dias_prediccion\n",
    "\n",
    "\n",
    "train = datos_Lanzarote_uni_scaled[0:n_train, :]\n",
    "\n",
    "# Para obtener el conjunto de test obtenemos los 10 días anteriores a test para poder conformar el problema supervisado\n",
    "test = datos_Lanzarote_uni_scaled[n_train - dias_prediccion:len(datos_Lanzarote_uni_scaled), :]"
   ]
  },
  {
   "cell_type": "code",
   "execution_count": 8,
   "id": "566fba57",
   "metadata": {},
   "outputs": [],
   "source": [
    "X_train, y_train = get_X_y(train, dias_prediccion)\n",
    "X_test, y_test = get_X_y(test, dias_prediccion)\n",
    "\n",
    "X_train = np.reshape(X_train, (X_train.shape[0], X_train.shape[1], 1))\n",
    "X_test = np.reshape(X_test, (X_test.shape[0], X_test.shape[1], 1))"
   ]
  },
  {
   "cell_type": "code",
   "execution_count": 9,
   "id": "f39d95c8",
   "metadata": {},
   "outputs": [
    {
     "name": "stdout",
     "output_type": "stream",
     "text": [
      "Epoch 1/40\n",
      "14/14 - 3s - loss: 0.0451 - val_loss: 0.0221 - 3s/epoch - 215ms/step\n",
      "Epoch 2/40\n",
      "14/14 - 0s - loss: 0.0404 - val_loss: 0.0201 - 125ms/epoch - 9ms/step\n",
      "Epoch 3/40\n",
      "14/14 - 0s - loss: 0.0357 - val_loss: 0.0194 - 120ms/epoch - 9ms/step\n",
      "Epoch 4/40\n",
      "14/14 - 0s - loss: 0.0321 - val_loss: 0.0173 - 119ms/epoch - 8ms/step\n",
      "Epoch 5/40\n",
      "14/14 - 0s - loss: 0.0275 - val_loss: 0.0166 - 119ms/epoch - 9ms/step\n",
      "Epoch 6/40\n",
      "14/14 - 0s - loss: 0.0261 - val_loss: 0.0176 - 120ms/epoch - 9ms/step\n",
      "Epoch 7/40\n",
      "14/14 - 0s - loss: 0.0234 - val_loss: 0.0140 - 119ms/epoch - 8ms/step\n",
      "Epoch 8/40\n",
      "14/14 - 0s - loss: 0.0227 - val_loss: 0.0134 - 119ms/epoch - 8ms/step\n",
      "Epoch 9/40\n",
      "14/14 - 0s - loss: 0.0220 - val_loss: 0.0127 - 120ms/epoch - 9ms/step\n",
      "Epoch 10/40\n",
      "14/14 - 0s - loss: 0.0200 - val_loss: 0.0167 - 119ms/epoch - 8ms/step\n",
      "Epoch 11/40\n",
      "14/14 - 0s - loss: 0.0206 - val_loss: 0.0104 - 120ms/epoch - 9ms/step\n",
      "Epoch 12/40\n",
      "14/14 - 0s - loss: 0.0182 - val_loss: 0.0096 - 120ms/epoch - 9ms/step\n",
      "Epoch 13/40\n",
      "14/14 - 0s - loss: 0.0183 - val_loss: 0.0096 - 124ms/epoch - 9ms/step\n",
      "Epoch 14/40\n",
      "14/14 - 0s - loss: 0.0166 - val_loss: 0.0085 - 122ms/epoch - 9ms/step\n",
      "Epoch 15/40\n",
      "14/14 - 0s - loss: 0.0170 - val_loss: 0.0080 - 121ms/epoch - 9ms/step\n",
      "Epoch 16/40\n",
      "14/14 - 0s - loss: 0.0153 - val_loss: 0.0071 - 121ms/epoch - 9ms/step\n",
      "Epoch 17/40\n",
      "14/14 - 0s - loss: 0.0158 - val_loss: 0.0077 - 121ms/epoch - 9ms/step\n",
      "Epoch 18/40\n",
      "14/14 - 0s - loss: 0.0148 - val_loss: 0.0068 - 120ms/epoch - 9ms/step\n",
      "Epoch 19/40\n",
      "14/14 - 0s - loss: 0.0151 - val_loss: 0.0059 - 122ms/epoch - 9ms/step\n",
      "Epoch 20/40\n",
      "14/14 - 0s - loss: 0.0147 - val_loss: 0.0071 - 122ms/epoch - 9ms/step\n",
      "Epoch 21/40\n",
      "14/14 - 0s - loss: 0.0132 - val_loss: 0.0059 - 121ms/epoch - 9ms/step\n",
      "Epoch 22/40\n",
      "14/14 - 0s - loss: 0.0145 - val_loss: 0.0054 - 120ms/epoch - 9ms/step\n",
      "Epoch 23/40\n",
      "14/14 - 0s - loss: 0.0127 - val_loss: 0.0046 - 122ms/epoch - 9ms/step\n",
      "Epoch 24/40\n",
      "14/14 - 0s - loss: 0.0123 - val_loss: 0.0041 - 120ms/epoch - 9ms/step\n",
      "Epoch 25/40\n",
      "14/14 - 0s - loss: 0.0121 - val_loss: 0.0038 - 121ms/epoch - 9ms/step\n",
      "Epoch 26/40\n",
      "14/14 - 0s - loss: 0.0098 - val_loss: 0.0044 - 121ms/epoch - 9ms/step\n",
      "Epoch 27/40\n",
      "14/14 - 0s - loss: 0.0123 - val_loss: 0.0035 - 121ms/epoch - 9ms/step\n",
      "Epoch 28/40\n",
      "14/14 - 0s - loss: 0.0118 - val_loss: 0.0033 - 122ms/epoch - 9ms/step\n",
      "Epoch 29/40\n",
      "14/14 - 0s - loss: 0.0103 - val_loss: 0.0040 - 122ms/epoch - 9ms/step\n",
      "Epoch 30/40\n",
      "14/14 - 0s - loss: 0.0115 - val_loss: 0.0030 - 121ms/epoch - 9ms/step\n",
      "Epoch 31/40\n",
      "14/14 - 0s - loss: 0.0113 - val_loss: 0.0028 - 123ms/epoch - 9ms/step\n",
      "Epoch 32/40\n",
      "14/14 - 0s - loss: 0.0115 - val_loss: 0.0048 - 122ms/epoch - 9ms/step\n",
      "Epoch 33/40\n",
      "14/14 - 0s - loss: 0.0109 - val_loss: 0.0029 - 120ms/epoch - 9ms/step\n",
      "Epoch 34/40\n",
      "14/14 - 0s - loss: 0.0127 - val_loss: 0.0026 - 120ms/epoch - 9ms/step\n",
      "Epoch 35/40\n",
      "14/14 - 0s - loss: 0.0098 - val_loss: 0.0026 - 120ms/epoch - 9ms/step\n",
      "Epoch 36/40\n",
      "14/14 - 0s - loss: 0.0118 - val_loss: 0.0025 - 119ms/epoch - 8ms/step\n",
      "Epoch 37/40\n",
      "14/14 - 0s - loss: 0.0119 - val_loss: 0.0026 - 121ms/epoch - 9ms/step\n",
      "Epoch 38/40\n",
      "14/14 - 0s - loss: 0.0111 - val_loss: 0.0024 - 120ms/epoch - 9ms/step\n",
      "Epoch 39/40\n",
      "14/14 - 0s - loss: 0.0113 - val_loss: 0.0030 - 120ms/epoch - 9ms/step\n",
      "Epoch 40/40\n",
      "14/14 - 0s - loss: 0.0108 - val_loss: 0.0022 - 119ms/epoch - 8ms/step\n"
     ]
    }
   ],
   "source": [
    "modelo, historico = obtener_modelo_red_neuronal(X_train, y_train, X_test, y_test)"
   ]
  },
  {
   "cell_type": "code",
   "execution_count": 10,
   "id": "e376325f",
   "metadata": {},
   "outputs": [
    {
     "data": {
      "image/png": "[encoded data removed]",
      "text/plain": [
       "<Figure size 640x480 with 1 Axes>"
      ]
     },
     "metadata": {},
     "output_type": "display_data"
    }
   ],
   "source": [
    "visualizar_perdida(historico)"
   ]
  },
  {
   "cell_type": "code",
   "execution_count": 11,
   "id": "c30157c2",
   "metadata": {},
   "outputs": [
    {
     "name": "stdout",
     "output_type": "stream",
     "text": [
      "1/1 [==============================] - 0s 324ms/step\n"
     ]
    }
   ],
   "source": [
    "test_pred = modelo.predict(X_test)\n",
    "y_pred = scaler.inverse_transform(test_pred)\n",
    "y_test = scaler.inverse_transform(y_test.reshape(-1,1))"
   ]
  },
  {
   "cell_type": "code",
   "execution_count": 12,
   "id": "4560edbc",
   "metadata": {},
   "outputs": [
    {
     "name": "stdout",
     "output_type": "stream",
     "text": [
      "2022-03-19: número de casos reales 28, número de casos predichos 24.387821\n",
      "2022-03-20: número de casos reales 27, número de casos predichos 25.211452\n",
      "2022-03-21: número de casos reales 32, número de casos predichos 26.194942\n",
      "2022-03-22: número de casos reales 35, número de casos predichos 26.860174\n",
      "2022-03-23: número de casos reales 44, número de casos predichos 29.354214\n",
      "2022-03-24: número de casos reales 30, número de casos predichos 31.6319\n",
      "2022-03-25: número de casos reales 36, número de casos predichos 28.875196\n",
      "2022-03-26: número de casos reales 16, número de casos predichos 30.050795\n",
      "2022-03-27: número de casos reales 17, número de casos predichos 30.646877\n",
      "2022-03-28: número de casos reales 13, número de casos predichos 30.468878\n"
     ]
    }
   ],
   "source": [
    "visualizar_resultados_texto(y_test, y_pred, fechas)"
   ]
  },
  {
   "cell_type": "code",
   "execution_count": 13,
   "id": "d7e42788",
   "metadata": {},
   "outputs": [
    {
     "data": {
      "image/png": "[encoded data removed]",
      "text/plain": [
       "<Figure size 640x480 with 1 Axes>"
      ]
     },
     "metadata": {},
     "output_type": "display_data"
    }
   ],
   "source": [
    "tit = 'Red Neuronal Recurrente univariable para la isla de ' + isla\n",
    "\n",
    "visualizar_pred_test(y_test, y_pred, fechas, tit)"
   ]
  },
  {
   "cell_type": "code",
   "execution_count": 14,
   "id": "53799326",
   "metadata": {},
   "outputs": [
    {
     "data": {
      "text/plain": [
       "array([  3.6121788 ,   1.78854752,   5.80505753,   8.13982582,\n",
       "        14.64578629,  -1.63190079,   7.12480354, -14.0507946 ,\n",
       "       -13.64687729, -17.46887779])"
      ]
     },
     "execution_count": 14,
     "metadata": {},
     "output_type": "execute_result"
    }
   ],
   "source": [
    "dif = y_test - y_pred\n",
    "dif = dif.flatten()\n",
    "dif"
   ]
  },
  {
   "cell_type": "code",
   "execution_count": 15,
   "id": "4171fd32",
   "metadata": {},
   "outputs": [
    {
     "ename": "ValueError",
     "evalue": "'firebird' is not a valid value for color",
     "output_type": "error",
     "traceback": [
      "\u001b[1;31m---------------------------------------------------------------------------\u001b[0m",
      "\u001b[1;31mValueError\u001b[0m                                Traceback (most recent call last)",
      "Cell \u001b[1;32mIn[15], line 2\u001b[0m\n\u001b[0;32m      1\u001b[0m datos_train \u001b[38;5;241m=\u001b[39m datos_Lanzarote_uni\u001b[38;5;241m.\u001b[39miloc[:n_train]\n\u001b[1;32m----> 2\u001b[0m \u001b[43mvisualizar_historico\u001b[49m\u001b[43m(\u001b[49m\u001b[43mdatos_train\u001b[49m\u001b[43m,\u001b[49m\u001b[43my_test\u001b[49m\u001b[43m,\u001b[49m\u001b[43my_pred\u001b[49m\u001b[43m,\u001b[49m\u001b[38;5;124;43m'\u001b[39;49m\u001b[38;5;124;43m'\u001b[39;49m\u001b[43m,\u001b[49m\u001b[43mn_dias_train_vis\u001b[49m\u001b[43m,\u001b[49m\u001b[43mfechas\u001b[49m\u001b[43m,\u001b[49m\u001b[43mtit\u001b[49m\u001b[43m,\u001b[49m\u001b[43mcolor_isla\u001b[49m\u001b[43m,\u001b[49m\u001b[43mdif\u001b[49m\u001b[43m)\u001b[49m\n",
      "Cell \u001b[1;32mIn[2], line 31\u001b[0m, in \u001b[0;36mvisualizar_historico\u001b[1;34m(train, y_test, y_pred, variable, dias_historico, indices, tit, color, dif)\u001b[0m\n\u001b[0;32m     29\u001b[0m     plt\u001b[38;5;241m.\u001b[39mplot(train_s\u001b[38;5;241m.\u001b[39mindex, train_s[variable], label\u001b[38;5;241m=\u001b[39m\u001b[38;5;124m'\u001b[39m\u001b[38;5;124mTrain\u001b[39m\u001b[38;5;124m'\u001b[39m, color\u001b[38;5;241m=\u001b[39mcolor_isla)\n\u001b[0;32m     30\u001b[0m \u001b[38;5;28;01melse\u001b[39;00m:\n\u001b[1;32m---> 31\u001b[0m     \u001b[43mplt\u001b[49m\u001b[38;5;241;43m.\u001b[39;49m\u001b[43mplot\u001b[49m\u001b[43m(\u001b[49m\u001b[43mtrain_s\u001b[49m\u001b[38;5;241;43m.\u001b[39;49m\u001b[43mindex\u001b[49m\u001b[43m,\u001b[49m\u001b[43m \u001b[49m\u001b[43mtrain_s\u001b[49m\u001b[43m,\u001b[49m\u001b[43m \u001b[49m\u001b[43mlabel\u001b[49m\u001b[38;5;241;43m=\u001b[39;49m\u001b[38;5;124;43m'\u001b[39;49m\u001b[38;5;124;43mTrain\u001b[39;49m\u001b[38;5;124;43m'\u001b[39;49m\u001b[43m,\u001b[49m\u001b[43m \u001b[49m\u001b[43mcolor\u001b[49m\u001b[38;5;241;43m=\u001b[39;49m\u001b[43mcolor_isla\u001b[49m\u001b[43m)\u001b[49m\n\u001b[0;32m     32\u001b[0m plt\u001b[38;5;241m.\u001b[39mplot(indices, y_test, label\u001b[38;5;241m=\u001b[39m\u001b[38;5;124m'\u001b[39m\u001b[38;5;124mTest\u001b[39m\u001b[38;5;124m'\u001b[39m, color\u001b[38;5;241m=\u001b[39m\u001b[38;5;124m'\u001b[39m\u001b[38;5;124mgreen\u001b[39m\u001b[38;5;124m'\u001b[39m)\n\u001b[0;32m     33\u001b[0m plt\u001b[38;5;241m.\u001b[39mplot(indices, y_pred, label\u001b[38;5;241m=\u001b[39m\u001b[38;5;124m'\u001b[39m\u001b[38;5;124mPredicciones\u001b[39m\u001b[38;5;124m'\u001b[39m, color\u001b[38;5;241m=\u001b[39m\u001b[38;5;124m'\u001b[39m\u001b[38;5;124morange\u001b[39m\u001b[38;5;124m'\u001b[39m)\n",
      "File \u001b[1;32mD:\\anaconda3\\lib\\site-packages\\matplotlib\\pyplot.py:2812\u001b[0m, in \u001b[0;36mplot\u001b[1;34m(scalex, scaley, data, *args, **kwargs)\u001b[0m\n\u001b[0;32m   2810\u001b[0m \u001b[38;5;129m@_copy_docstring_and_deprecators\u001b[39m(Axes\u001b[38;5;241m.\u001b[39mplot)\n\u001b[0;32m   2811\u001b[0m \u001b[38;5;28;01mdef\u001b[39;00m \u001b[38;5;21mplot\u001b[39m(\u001b[38;5;241m*\u001b[39margs, scalex\u001b[38;5;241m=\u001b[39m\u001b[38;5;28;01mTrue\u001b[39;00m, scaley\u001b[38;5;241m=\u001b[39m\u001b[38;5;28;01mTrue\u001b[39;00m, data\u001b[38;5;241m=\u001b[39m\u001b[38;5;28;01mNone\u001b[39;00m, \u001b[38;5;241m*\u001b[39m\u001b[38;5;241m*\u001b[39mkwargs):\n\u001b[1;32m-> 2812\u001b[0m     \u001b[38;5;28;01mreturn\u001b[39;00m \u001b[43mgca\u001b[49m\u001b[43m(\u001b[49m\u001b[43m)\u001b[49m\u001b[38;5;241;43m.\u001b[39;49m\u001b[43mplot\u001b[49m\u001b[43m(\u001b[49m\n\u001b[0;32m   2813\u001b[0m \u001b[43m        \u001b[49m\u001b[38;5;241;43m*\u001b[39;49m\u001b[43margs\u001b[49m\u001b[43m,\u001b[49m\u001b[43m \u001b[49m\u001b[43mscalex\u001b[49m\u001b[38;5;241;43m=\u001b[39;49m\u001b[43mscalex\u001b[49m\u001b[43m,\u001b[49m\u001b[43m \u001b[49m\u001b[43mscaley\u001b[49m\u001b[38;5;241;43m=\u001b[39;49m\u001b[43mscaley\u001b[49m\u001b[43m,\u001b[49m\n\u001b[0;32m   2814\u001b[0m \u001b[43m        \u001b[49m\u001b[38;5;241;43m*\u001b[39;49m\u001b[38;5;241;43m*\u001b[39;49m\u001b[43m(\u001b[49m\u001b[43m{\u001b[49m\u001b[38;5;124;43m\"\u001b[39;49m\u001b[38;5;124;43mdata\u001b[39;49m\u001b[38;5;124;43m\"\u001b[39;49m\u001b[43m:\u001b[49m\u001b[43m \u001b[49m\u001b[43mdata\u001b[49m\u001b[43m}\u001b[49m\u001b[43m \u001b[49m\u001b[38;5;28;43;01mif\u001b[39;49;00m\u001b[43m \u001b[49m\u001b[43mdata\u001b[49m\u001b[43m \u001b[49m\u001b[38;5;129;43;01mis\u001b[39;49;00m\u001b[43m \u001b[49m\u001b[38;5;129;43;01mnot\u001b[39;49;00m\u001b[43m \u001b[49m\u001b[38;5;28;43;01mNone\u001b[39;49;00m\u001b[43m \u001b[49m\u001b[38;5;28;43;01melse\u001b[39;49;00m\u001b[43m \u001b[49m\u001b[43m{\u001b[49m\u001b[43m}\u001b[49m\u001b[43m)\u001b[49m\u001b[43m,\u001b[49m\u001b[43m \u001b[49m\u001b[38;5;241;43m*\u001b[39;49m\u001b[38;5;241;43m*\u001b[39;49m\u001b[43mkwargs\u001b[49m\u001b[43m)\u001b[49m\n",
      "File \u001b[1;32mD:\\anaconda3\\lib\\site-packages\\matplotlib\\axes\\_axes.py:1688\u001b[0m, in \u001b[0;36mAxes.plot\u001b[1;34m(self, scalex, scaley, data, *args, **kwargs)\u001b[0m\n\u001b[0;32m   1445\u001b[0m \u001b[38;5;250m\u001b[39m\u001b[38;5;124;03m\"\"\"\u001b[39;00m\n\u001b[0;32m   1446\u001b[0m \u001b[38;5;124;03mPlot y versus x as lines and/or markers.\u001b[39;00m\n\u001b[0;32m   1447\u001b[0m \n\u001b[1;32m   (...)\u001b[0m\n\u001b[0;32m   1685\u001b[0m \u001b[38;5;124;03m(``'green'``) or hex strings (``'#008000'``).\u001b[39;00m\n\u001b[0;32m   1686\u001b[0m \u001b[38;5;124;03m\"\"\"\u001b[39;00m\n\u001b[0;32m   1687\u001b[0m kwargs \u001b[38;5;241m=\u001b[39m cbook\u001b[38;5;241m.\u001b[39mnormalize_kwargs(kwargs, mlines\u001b[38;5;241m.\u001b[39mLine2D)\n\u001b[1;32m-> 1688\u001b[0m lines \u001b[38;5;241m=\u001b[39m [\u001b[38;5;241m*\u001b[39m\u001b[38;5;28mself\u001b[39m\u001b[38;5;241m.\u001b[39m_get_lines(\u001b[38;5;241m*\u001b[39margs, data\u001b[38;5;241m=\u001b[39mdata, \u001b[38;5;241m*\u001b[39m\u001b[38;5;241m*\u001b[39mkwargs)]\n\u001b[0;32m   1689\u001b[0m \u001b[38;5;28;01mfor\u001b[39;00m line \u001b[38;5;129;01min\u001b[39;00m lines:\n\u001b[0;32m   1690\u001b[0m     \u001b[38;5;28mself\u001b[39m\u001b[38;5;241m.\u001b[39madd_line(line)\n",
      "File \u001b[1;32mD:\\anaconda3\\lib\\site-packages\\matplotlib\\axes\\_base.py:311\u001b[0m, in \u001b[0;36m_process_plot_var_args.__call__\u001b[1;34m(self, data, *args, **kwargs)\u001b[0m\n\u001b[0;32m    309\u001b[0m     this \u001b[38;5;241m+\u001b[39m\u001b[38;5;241m=\u001b[39m args[\u001b[38;5;241m0\u001b[39m],\n\u001b[0;32m    310\u001b[0m     args \u001b[38;5;241m=\u001b[39m args[\u001b[38;5;241m1\u001b[39m:]\n\u001b[1;32m--> 311\u001b[0m \u001b[38;5;28;01myield from\u001b[39;00m \u001b[38;5;28;43mself\u001b[39;49m\u001b[38;5;241;43m.\u001b[39;49m\u001b[43m_plot_args\u001b[49m\u001b[43m(\u001b[49m\n\u001b[0;32m    312\u001b[0m \u001b[43m    \u001b[49m\u001b[43mthis\u001b[49m\u001b[43m,\u001b[49m\u001b[43m \u001b[49m\u001b[43mkwargs\u001b[49m\u001b[43m,\u001b[49m\u001b[43m \u001b[49m\u001b[43mambiguous_fmt_datakey\u001b[49m\u001b[38;5;241;43m=\u001b[39;49m\u001b[43mambiguous_fmt_datakey\u001b[49m\u001b[43m)\u001b[49m\n",
      "File \u001b[1;32mD:\\anaconda3\\lib\\site-packages\\matplotlib\\axes\\_base.py:544\u001b[0m, in \u001b[0;36m_process_plot_var_args._plot_args\u001b[1;34m(self, tup, kwargs, return_kwargs, ambiguous_fmt_datakey)\u001b[0m\n\u001b[0;32m    542\u001b[0m     \u001b[38;5;28;01mreturn\u001b[39;00m \u001b[38;5;28mlist\u001b[39m(result)\n\u001b[0;32m    543\u001b[0m \u001b[38;5;28;01melse\u001b[39;00m:\n\u001b[1;32m--> 544\u001b[0m     \u001b[38;5;28;01mreturn\u001b[39;00m [l[\u001b[38;5;241m0\u001b[39m] \u001b[38;5;28;01mfor\u001b[39;00m l \u001b[38;5;129;01min\u001b[39;00m result]\n",
      "File \u001b[1;32mD:\\anaconda3\\lib\\site-packages\\matplotlib\\axes\\_base.py:544\u001b[0m, in \u001b[0;36m<listcomp>\u001b[1;34m(.0)\u001b[0m\n\u001b[0;32m    542\u001b[0m     \u001b[38;5;28;01mreturn\u001b[39;00m \u001b[38;5;28mlist\u001b[39m(result)\n\u001b[0;32m    543\u001b[0m \u001b[38;5;28;01melse\u001b[39;00m:\n\u001b[1;32m--> 544\u001b[0m     \u001b[38;5;28;01mreturn\u001b[39;00m [l[\u001b[38;5;241m0\u001b[39m] \u001b[38;5;28;01mfor\u001b[39;00m l \u001b[38;5;129;01min\u001b[39;00m result]\n",
      "File \u001b[1;32mD:\\anaconda3\\lib\\site-packages\\matplotlib\\axes\\_base.py:537\u001b[0m, in \u001b[0;36m<genexpr>\u001b[1;34m(.0)\u001b[0m\n\u001b[0;32m    534\u001b[0m \u001b[38;5;28;01melse\u001b[39;00m:\n\u001b[0;32m    535\u001b[0m     labels \u001b[38;5;241m=\u001b[39m [label] \u001b[38;5;241m*\u001b[39m n_datasets\n\u001b[1;32m--> 537\u001b[0m result \u001b[38;5;241m=\u001b[39m (\u001b[43mmake_artist\u001b[49m\u001b[43m(\u001b[49m\u001b[43mx\u001b[49m\u001b[43m[\u001b[49m\u001b[43m:\u001b[49m\u001b[43m,\u001b[49m\u001b[43m \u001b[49m\u001b[43mj\u001b[49m\u001b[43m \u001b[49m\u001b[38;5;241;43m%\u001b[39;49m\u001b[43m \u001b[49m\u001b[43mncx\u001b[49m\u001b[43m]\u001b[49m\u001b[43m,\u001b[49m\u001b[43m \u001b[49m\u001b[43my\u001b[49m\u001b[43m[\u001b[49m\u001b[43m:\u001b[49m\u001b[43m,\u001b[49m\u001b[43m \u001b[49m\u001b[43mj\u001b[49m\u001b[43m \u001b[49m\u001b[38;5;241;43m%\u001b[39;49m\u001b[43m \u001b[49m\u001b[43mncy\u001b[49m\u001b[43m]\u001b[49m\u001b[43m,\u001b[49m\u001b[43m \u001b[49m\u001b[43mkw\u001b[49m\u001b[43m,\u001b[49m\n\u001b[0;32m    538\u001b[0m \u001b[43m                      \u001b[49m\u001b[43m{\u001b[49m\u001b[38;5;241;43m*\u001b[39;49m\u001b[38;5;241;43m*\u001b[39;49m\u001b[43mkwargs\u001b[49m\u001b[43m,\u001b[49m\u001b[43m \u001b[49m\u001b[38;5;124;43m'\u001b[39;49m\u001b[38;5;124;43mlabel\u001b[39;49m\u001b[38;5;124;43m'\u001b[39;49m\u001b[43m:\u001b[49m\u001b[43m \u001b[49m\u001b[43mlabel\u001b[49m\u001b[43m}\u001b[49m\u001b[43m)\u001b[49m\n\u001b[0;32m    539\u001b[0m           \u001b[38;5;28;01mfor\u001b[39;00m j, label \u001b[38;5;129;01min\u001b[39;00m \u001b[38;5;28menumerate\u001b[39m(labels))\n\u001b[0;32m    541\u001b[0m \u001b[38;5;28;01mif\u001b[39;00m return_kwargs:\n\u001b[0;32m    542\u001b[0m     \u001b[38;5;28;01mreturn\u001b[39;00m \u001b[38;5;28mlist\u001b[39m(result)\n",
      "File \u001b[1;32mD:\\anaconda3\\lib\\site-packages\\matplotlib\\axes\\_base.py:351\u001b[0m, in \u001b[0;36m_process_plot_var_args._makeline\u001b[1;34m(self, x, y, kw, kwargs)\u001b[0m\n\u001b[0;32m    349\u001b[0m default_dict \u001b[38;5;241m=\u001b[39m \u001b[38;5;28mself\u001b[39m\u001b[38;5;241m.\u001b[39m_getdefaults(\u001b[38;5;28mset\u001b[39m(), kw)\n\u001b[0;32m    350\u001b[0m \u001b[38;5;28mself\u001b[39m\u001b[38;5;241m.\u001b[39m_setdefaults(default_dict, kw)\n\u001b[1;32m--> 351\u001b[0m seg \u001b[38;5;241m=\u001b[39m \u001b[43mmlines\u001b[49m\u001b[38;5;241;43m.\u001b[39;49m\u001b[43mLine2D\u001b[49m\u001b[43m(\u001b[49m\u001b[43mx\u001b[49m\u001b[43m,\u001b[49m\u001b[43m \u001b[49m\u001b[43my\u001b[49m\u001b[43m,\u001b[49m\u001b[43m \u001b[49m\u001b[38;5;241;43m*\u001b[39;49m\u001b[38;5;241;43m*\u001b[39;49m\u001b[43mkw\u001b[49m\u001b[43m)\u001b[49m\n\u001b[0;32m    352\u001b[0m \u001b[38;5;28;01mreturn\u001b[39;00m seg, kw\n",
      "File \u001b[1;32mD:\\anaconda3\\lib\\site-packages\\matplotlib\\_api\\deprecation.py:454\u001b[0m, in \u001b[0;36mmake_keyword_only.<locals>.wrapper\u001b[1;34m(*args, **kwargs)\u001b[0m\n\u001b[0;32m    448\u001b[0m \u001b[38;5;28;01mif\u001b[39;00m \u001b[38;5;28mlen\u001b[39m(args) \u001b[38;5;241m>\u001b[39m name_idx:\n\u001b[0;32m    449\u001b[0m     warn_deprecated(\n\u001b[0;32m    450\u001b[0m         since, message\u001b[38;5;241m=\u001b[39m\u001b[38;5;124m\"\u001b[39m\u001b[38;5;124mPassing the \u001b[39m\u001b[38;5;132;01m%(name)s\u001b[39;00m\u001b[38;5;124m \u001b[39m\u001b[38;5;132;01m%(obj_type)s\u001b[39;00m\u001b[38;5;124m \u001b[39m\u001b[38;5;124m\"\u001b[39m\n\u001b[0;32m    451\u001b[0m         \u001b[38;5;124m\"\u001b[39m\u001b[38;5;124mpositionally is deprecated since Matplotlib \u001b[39m\u001b[38;5;132;01m%(since)s\u001b[39;00m\u001b[38;5;124m; the \u001b[39m\u001b[38;5;124m\"\u001b[39m\n\u001b[0;32m    452\u001b[0m         \u001b[38;5;124m\"\u001b[39m\u001b[38;5;124mparameter will become keyword-only \u001b[39m\u001b[38;5;132;01m%(removal)s\u001b[39;00m\u001b[38;5;124m.\u001b[39m\u001b[38;5;124m\"\u001b[39m,\n\u001b[0;32m    453\u001b[0m         name\u001b[38;5;241m=\u001b[39mname, obj_type\u001b[38;5;241m=\u001b[39m\u001b[38;5;124mf\u001b[39m\u001b[38;5;124m\"\u001b[39m\u001b[38;5;124mparameter of \u001b[39m\u001b[38;5;132;01m{\u001b[39;00mfunc\u001b[38;5;241m.\u001b[39m\u001b[38;5;18m__name__\u001b[39m\u001b[38;5;132;01m}\u001b[39;00m\u001b[38;5;124m()\u001b[39m\u001b[38;5;124m\"\u001b[39m)\n\u001b[1;32m--> 454\u001b[0m \u001b[38;5;28;01mreturn\u001b[39;00m \u001b[43mfunc\u001b[49m\u001b[43m(\u001b[49m\u001b[38;5;241;43m*\u001b[39;49m\u001b[43margs\u001b[49m\u001b[43m,\u001b[49m\u001b[43m \u001b[49m\u001b[38;5;241;43m*\u001b[39;49m\u001b[38;5;241;43m*\u001b[39;49m\u001b[43mkwargs\u001b[49m\u001b[43m)\u001b[49m\n",
      "File \u001b[1;32mD:\\anaconda3\\lib\\site-packages\\matplotlib\\lines.py:364\u001b[0m, in \u001b[0;36mLine2D.__init__\u001b[1;34m(self, xdata, ydata, linewidth, linestyle, color, gapcolor, marker, markersize, markeredgewidth, markeredgecolor, markerfacecolor, markerfacecoloralt, fillstyle, antialiased, dash_capstyle, solid_capstyle, dash_joinstyle, solid_joinstyle, pickradius, drawstyle, markevery, **kwargs)\u001b[0m\n\u001b[0;32m    361\u001b[0m \u001b[38;5;28mself\u001b[39m\u001b[38;5;241m.\u001b[39mset_drawstyle(drawstyle)\n\u001b[0;32m    363\u001b[0m \u001b[38;5;28mself\u001b[39m\u001b[38;5;241m.\u001b[39m_color \u001b[38;5;241m=\u001b[39m \u001b[38;5;28;01mNone\u001b[39;00m\n\u001b[1;32m--> 364\u001b[0m \u001b[38;5;28;43mself\u001b[39;49m\u001b[38;5;241;43m.\u001b[39;49m\u001b[43mset_color\u001b[49m\u001b[43m(\u001b[49m\u001b[43mcolor\u001b[49m\u001b[43m)\u001b[49m\n\u001b[0;32m    365\u001b[0m \u001b[38;5;28;01mif\u001b[39;00m marker \u001b[38;5;129;01mis\u001b[39;00m \u001b[38;5;28;01mNone\u001b[39;00m:\n\u001b[0;32m    366\u001b[0m     marker \u001b[38;5;241m=\u001b[39m \u001b[38;5;124m'\u001b[39m\u001b[38;5;124mnone\u001b[39m\u001b[38;5;124m'\u001b[39m  \u001b[38;5;66;03m# Default.\u001b[39;00m\n",
      "File \u001b[1;32mD:\\anaconda3\\lib\\site-packages\\matplotlib\\lines.py:1059\u001b[0m, in \u001b[0;36mLine2D.set_color\u001b[1;34m(self, color)\u001b[0m\n\u001b[0;32m   1051\u001b[0m \u001b[38;5;28;01mdef\u001b[39;00m \u001b[38;5;21mset_color\u001b[39m(\u001b[38;5;28mself\u001b[39m, color):\n\u001b[0;32m   1052\u001b[0m \u001b[38;5;250m    \u001b[39m\u001b[38;5;124;03m\"\"\"\u001b[39;00m\n\u001b[0;32m   1053\u001b[0m \u001b[38;5;124;03m    Set the color of the line.\u001b[39;00m\n\u001b[0;32m   1054\u001b[0m \n\u001b[1;32m   (...)\u001b[0m\n\u001b[0;32m   1057\u001b[0m \u001b[38;5;124;03m    color : color\u001b[39;00m\n\u001b[0;32m   1058\u001b[0m \u001b[38;5;124;03m    \"\"\"\u001b[39;00m\n\u001b[1;32m-> 1059\u001b[0m     \u001b[43mmcolors\u001b[49m\u001b[38;5;241;43m.\u001b[39;49m\u001b[43m_check_color_like\u001b[49m\u001b[43m(\u001b[49m\u001b[43mcolor\u001b[49m\u001b[38;5;241;43m=\u001b[39;49m\u001b[43mcolor\u001b[49m\u001b[43m)\u001b[49m\n\u001b[0;32m   1060\u001b[0m     \u001b[38;5;28mself\u001b[39m\u001b[38;5;241m.\u001b[39m_color \u001b[38;5;241m=\u001b[39m color\n\u001b[0;32m   1061\u001b[0m     \u001b[38;5;28mself\u001b[39m\u001b[38;5;241m.\u001b[39mstale \u001b[38;5;241m=\u001b[39m \u001b[38;5;28;01mTrue\u001b[39;00m\n",
      "File \u001b[1;32mD:\\anaconda3\\lib\\site-packages\\matplotlib\\colors.py:243\u001b[0m, in \u001b[0;36m_check_color_like\u001b[1;34m(**kwargs)\u001b[0m\n\u001b[0;32m    241\u001b[0m \u001b[38;5;28;01mfor\u001b[39;00m k, v \u001b[38;5;129;01min\u001b[39;00m kwargs\u001b[38;5;241m.\u001b[39mitems():\n\u001b[0;32m    242\u001b[0m     \u001b[38;5;28;01mif\u001b[39;00m \u001b[38;5;129;01mnot\u001b[39;00m is_color_like(v):\n\u001b[1;32m--> 243\u001b[0m         \u001b[38;5;28;01mraise\u001b[39;00m \u001b[38;5;167;01mValueError\u001b[39;00m(\u001b[38;5;124mf\u001b[39m\u001b[38;5;124m\"\u001b[39m\u001b[38;5;132;01m{\u001b[39;00mv\u001b[38;5;132;01m!r}\u001b[39;00m\u001b[38;5;124m is not a valid value for \u001b[39m\u001b[38;5;132;01m{\u001b[39;00mk\u001b[38;5;132;01m}\u001b[39;00m\u001b[38;5;124m\"\u001b[39m)\n",
      "\u001b[1;31mValueError\u001b[0m: 'firebird' is not a valid value for color"
     ]
    },
    {
     "data": {
      "image/png": "[encoded data removed]",
      "text/plain": [
       "<Figure size 1000x600 with 1 Axes>"
      ]
     },
     "metadata": {},
     "output_type": "display_data"
    }
   ],
   "source": [
    "datos_train = datos_Lanzarote_uni.iloc[:n_train]\n",
    "visualizar_historico(datos_train,y_test,y_pred,'',n_dias_train_vis,fechas,tit,color_isla,dif)"
   ]
  },
  {
   "cell_type": "code",
   "execution_count": null,
   "id": "d9ffd4e6",
   "metadata": {},
   "outputs": [],
   "source": [
    "mae, mse, rmse = obtener_errores(y_test, y_pred)\n",
    "\n",
    "print(\"Error cuadrático medio (MSE) del modelo: \" + str(mse))\n",
    "print(\"Error absoluto medio (MAE) del modelo: \" + str(mae))\n",
    "print(\"Raíz del error cuadrático medio (RMSE) del modelo: \" + str(rmse))"
   ]
  },
  {
   "cell_type": "markdown",
   "id": "93b18031",
   "metadata": {},
   "source": [
    "# Red Neuronal Recurrente multivariable con variables de pandemia"
   ]
  },
  {
   "cell_type": "code",
   "execution_count": null,
   "id": "fa3a2223",
   "metadata": {},
   "outputs": [],
   "source": [
    "scaler = MinMaxScaler(feature_range=(0, 1))\n",
    "datos_Lanzarote_mult_covid_scaled = scaler.fit_transform(datos_Lanzarote_mult_covid)\n",
    "\n",
    "\n",
    "# Escalador para las predicciones y test\n",
    "scaler_preds = MinMaxScaler(feature_range=(0, 1))\n",
    "datos_Lanzarote_mult_covid_scaled_obj = scaler_preds.fit_transform(np.array(datos_Lanzarote_mult_covid[objetivo]).reshape(-1, 1))"
   ]
  },
  {
   "cell_type": "code",
   "execution_count": null,
   "id": "31614baa",
   "metadata": {},
   "outputs": [],
   "source": [
    "n_train = len(datos_Lanzarote_mult_covid_scaled) - dias_prediccion\n",
    "\n",
    "\n",
    "train = datos_Lanzarote_mult_covid_scaled[0:n_train, :]\n",
    "\n",
    "# Para obtener el conjunto de test obtenemos los 10 días anteriores a test para poder conformar el problema supervisado\n",
    "test = datos_Lanzarote_mult_covid_scaled[n_train - dias_prediccion:len(datos_Lanzarote_mult_covid_scaled), :]"
   ]
  },
  {
   "cell_type": "code",
   "execution_count": null,
   "id": "7a5337b6",
   "metadata": {},
   "outputs": [],
   "source": [
    "X_train, y_train = get_X_y(train, dias_prediccion)\n",
    "X_test, y_test = get_X_y(test, dias_prediccion)\n",
    "\n",
    "X_train = np.reshape(X_train, (X_train.shape[0], X_train.shape[1], X_train.shape[2]))\n",
    "X_test = np.reshape(X_test, (X_test.shape[0], X_test.shape[1], X_test.shape[2]))"
   ]
  },
  {
   "cell_type": "code",
   "execution_count": null,
   "id": "5cfee436",
   "metadata": {},
   "outputs": [],
   "source": [
    "modelo, historico = obtener_modelo_red_neuronal(X_train, y_train, X_test, y_test)"
   ]
  },
  {
   "cell_type": "code",
   "execution_count": null,
   "id": "c51bb6f1",
   "metadata": {},
   "outputs": [],
   "source": [
    "visualizar_perdida(historico)"
   ]
  },
  {
   "cell_type": "code",
   "execution_count": null,
   "id": "17bb16da",
   "metadata": {},
   "outputs": [],
   "source": [
    "test_pred = modelo.predict(X_test)\n",
    "y_pred = scaler_preds.inverse_transform(test_pred)\n",
    "y_test = scaler_preds.inverse_transform(y_test.reshape(-1,1))"
   ]
  },
  {
   "cell_type": "code",
   "execution_count": null,
   "id": "f48752e1",
   "metadata": {},
   "outputs": [],
   "source": [
    "visualizar_resultados_texto(y_test, y_pred, fechas)"
   ]
  },
  {
   "cell_type": "code",
   "execution_count": null,
   "id": "3abc82f1",
   "metadata": {},
   "outputs": [],
   "source": [
    "tit = 'Red Neuronal Recurrente multivariable con variables pandémicas para la isla de ' + isla\n",
    "\n",
    "visualizar_pred_test(y_test, y_pred, fechas, tit)"
   ]
  },
  {
   "cell_type": "code",
   "execution_count": null,
   "id": "b76c3357",
   "metadata": {},
   "outputs": [],
   "source": [
    "dif = y_test - y_pred\n",
    "dif = dif.flatten()\n",
    "dif"
   ]
  },
  {
   "cell_type": "code",
   "execution_count": null,
   "id": "48ffda64",
   "metadata": {},
   "outputs": [],
   "source": [
    "datos_train = datos_Lanzarote_mult_covid.iloc[:n_train, :]\n",
    "visualizar_historico(datos_train,y_test,y_pred,objetivo,n_dias_train_vis,fechas,tit,color_isla,dif)"
   ]
  },
  {
   "cell_type": "code",
   "execution_count": null,
   "id": "fb1b5d31",
   "metadata": {},
   "outputs": [],
   "source": [
    "mae, mse, rmse = obtener_errores(y_test, y_pred)\n",
    "\n",
    "print(\"Error cuadrático medio (MSE) del modelo: \" + str(mse))\n",
    "print(\"Error absoluto medio (MAE) del modelo: \" + str(mae))\n",
    "print(\"Raíz del error cuadrático medio (RMSE) del modelo: \" + str(rmse))"
   ]
  },
  {
   "cell_type": "markdown",
   "id": "75866126",
   "metadata": {},
   "source": [
    "# Red Neuronal Recurrente multivariable con variables atmosféricas"
   ]
  },
  {
   "cell_type": "code",
   "execution_count": null,
   "id": "715b4056",
   "metadata": {},
   "outputs": [],
   "source": [
    "scaler = MinMaxScaler(feature_range=(0, 1))\n",
    "datos_Lanzarote_mult_atm_scaled = scaler.fit_transform(datos_Lanzarote_mult_atm)\n",
    "\n",
    "# Escalador par alas predicciones y test\n",
    "scaler_preds = MinMaxScaler(feature_range=(0, 1))\n",
    "datos_Lanzarote_mult_atm_scaled_obj = scaler_preds.fit_transform(np.array(datos_Lanzarote_mult_atm[objetivo]).reshape(-1, 1))"
   ]
  },
  {
   "cell_type": "code",
   "execution_count": null,
   "id": "ffe127e2",
   "metadata": {},
   "outputs": [],
   "source": [
    "n_train = len(datos_Lanzarote_mult_atm_scaled) - dias_prediccion\n",
    "\n",
    "\n",
    "train = datos_Lanzarote_mult_atm_scaled[0:n_train, :]\n",
    "\n",
    "# Para obtener el conjunto de test obtenemos los 10 días anteriores a test para poder conformar el problema supervisado\n",
    "test = datos_Lanzarote_mult_atm_scaled[n_train - dias_prediccion:len(datos_Lanzarote_mult_atm_scaled), :]"
   ]
  },
  {
   "cell_type": "code",
   "execution_count": null,
   "id": "122b3aca",
   "metadata": {},
   "outputs": [],
   "source": [
    "X_train, y_train = get_X_y(train, dias_prediccion)\n",
    "X_test, y_test = get_X_y(test, dias_prediccion)\n",
    "\n",
    "X_train = np.reshape(X_train, (X_train.shape[0], X_train.shape[1], X_train.shape[2]))\n",
    "X_test = np.reshape(X_test, (X_test.shape[0], X_test.shape[1], X_test.shape[2]))"
   ]
  },
  {
   "cell_type": "code",
   "execution_count": null,
   "id": "46d5f15f",
   "metadata": {},
   "outputs": [],
   "source": [
    "modelo, historico = obtener_modelo_red_neuronal(X_train, y_train, X_test, y_test)"
   ]
  },
  {
   "cell_type": "code",
   "execution_count": null,
   "id": "5042a8a9",
   "metadata": {},
   "outputs": [],
   "source": [
    "visualizar_perdida(historico)"
   ]
  },
  {
   "cell_type": "code",
   "execution_count": null,
   "id": "d2406fa1",
   "metadata": {},
   "outputs": [],
   "source": [
    "test_pred = modelo.predict(X_test)\n",
    "y_pred = scaler_preds.inverse_transform(test_pred)\n",
    "y_test = scaler_preds.inverse_transform(y_test.reshape(-1,1))"
   ]
  },
  {
   "cell_type": "code",
   "execution_count": null,
   "id": "a6cde6d8",
   "metadata": {},
   "outputs": [],
   "source": [
    "visualizar_resultados_texto(y_test, y_pred, fechas)"
   ]
  },
  {
   "cell_type": "code",
   "execution_count": null,
   "id": "3301ff7a",
   "metadata": {},
   "outputs": [],
   "source": [
    "tit = 'Red Neuronal Recurrente multivariable con variables atmosféricas para la isla de ' + isla\n",
    "\n",
    "visualizar_pred_test(y_test, y_pred, fechas, tit)"
   ]
  },
  {
   "cell_type": "code",
   "execution_count": null,
   "id": "14e029eb",
   "metadata": {},
   "outputs": [],
   "source": [
    "dif = y_test - y_pred\n",
    "dif = dif.flatten()\n",
    "dif"
   ]
  },
  {
   "cell_type": "code",
   "execution_count": null,
   "id": "8230569b",
   "metadata": {},
   "outputs": [],
   "source": [
    "datos_train = datos_Lanzarote_mult_atm.iloc[:n_train, :]\n",
    "visualizar_historico(datos_train,y_test,y_pred,objetivo,n_dias_train_vis,fechas,tit,color_isla,dif)"
   ]
  },
  {
   "cell_type": "code",
   "execution_count": null,
   "id": "31d073d4",
   "metadata": {},
   "outputs": [],
   "source": [
    "mae, mse, rmse = obtener_errores(y_test, y_pred)\n",
    "\n",
    "print(\"Error cuadrático medio (MSE) del modelo: \" + str(mse))\n",
    "print(\"Error absoluto medio (MAE) del modelo: \" + str(mae))\n",
    "print(\"Raíz del error cuadrático medio (RMSE) del modelo: \" + str(rmse))"
   ]
  },
  {
   "cell_type": "markdown",
   "id": "8030cf7f",
   "metadata": {},
   "source": [
    "# Red Neuronal Recurrente multivariable con todas las variables"
   ]
  },
  {
   "cell_type": "code",
   "execution_count": null,
   "id": "59ab78fe",
   "metadata": {},
   "outputs": [],
   "source": [
    "scaler = MinMaxScaler(feature_range=(0, 1))\n",
    "datos_Lanzarote_mult_total_scaled = scaler.fit_transform(datos_Lanzarote_mult_total)\n",
    "\n",
    "# Escalador par alas predicciones y test\n",
    "scaler_preds = MinMaxScaler(feature_range=(0, 1))\n",
    "datos_Lanzarote_mult_total_scaled_obj = scaler_preds.fit_transform(np.array(datos_Lanzarote_mult_total[objetivo]).reshape(-1, 1))"
   ]
  },
  {
   "cell_type": "code",
   "execution_count": null,
   "id": "40ecf885",
   "metadata": {},
   "outputs": [],
   "source": [
    "n_train = len(datos_Lanzarote_mult_total_scaled) - dias_prediccion\n",
    "\n",
    "\n",
    "train = datos_Lanzarote_mult_total_scaled[0:n_train, :]\n",
    "\n",
    "# Para obtener el conjunto de test obtenemos los 10 días anteriores a test para poder conformar el problema supervisado\n",
    "test = datos_Lanzarote_mult_total_scaled[n_train - dias_prediccion:len(datos_Lanzarote_mult_total_scaled), :]"
   ]
  },
  {
   "cell_type": "code",
   "execution_count": null,
   "id": "d5933678",
   "metadata": {},
   "outputs": [],
   "source": [
    "X_train, y_train = get_X_y(train, dias_prediccion)\n",
    "X_test, y_test = get_X_y(test, dias_prediccion)\n",
    "\n",
    "X_train = np.reshape(X_train, (X_train.shape[0], X_train.shape[1], X_train.shape[2]))\n",
    "X_test = np.reshape(X_test, (X_test.shape[0], X_test.shape[1], X_test.shape[2]))"
   ]
  },
  {
   "cell_type": "code",
   "execution_count": null,
   "id": "2ecf0b18",
   "metadata": {},
   "outputs": [],
   "source": [
    "modelo, historico = obtener_modelo_red_neuronal(X_train, y_train, X_test, y_test)"
   ]
  },
  {
   "cell_type": "code",
   "execution_count": null,
   "id": "d75b16d4",
   "metadata": {},
   "outputs": [],
   "source": [
    "visualizar_perdida(historico)"
   ]
  },
  {
   "cell_type": "code",
   "execution_count": null,
   "id": "44e0e40d",
   "metadata": {},
   "outputs": [],
   "source": [
    "test_pred = modelo.predict(X_test)\n",
    "y_pred = scaler_preds.inverse_transform(test_pred)\n",
    "y_test = scaler_preds.inverse_transform(y_test.reshape(-1,1))"
   ]
  },
  {
   "cell_type": "code",
   "execution_count": null,
   "id": "012a1742",
   "metadata": {},
   "outputs": [],
   "source": [
    "visualizar_resultados_texto(y_test, y_pred, fechas)"
   ]
  },
  {
   "cell_type": "code",
   "execution_count": null,
   "id": "7435f885",
   "metadata": {},
   "outputs": [],
   "source": [
    "tit = 'Red Neuronal Recurrente multivariable con todas las variables para la isla de ' + isla\n",
    "\n",
    "visualizar_pred_test(y_test, y_pred, fechas, tit)"
   ]
  },
  {
   "cell_type": "code",
   "execution_count": null,
   "id": "2e71cc41",
   "metadata": {},
   "outputs": [],
   "source": [
    "dif = y_test - y_pred\n",
    "dif = dif.flatten()\n",
    "dif"
   ]
  },
  {
   "cell_type": "code",
   "execution_count": null,
   "id": "57dbbd5a",
   "metadata": {},
   "outputs": [],
   "source": [
    "datos_train = datos_Lanzarote_mult_total.iloc[:n_train, :]\n",
    "visualizar_historico(datos_train,y_test,y_pred,objetivo,n_dias_train_vis,fechas,tit,color_isla,dif)"
   ]
  },
  {
   "cell_type": "code",
   "execution_count": null,
   "id": "d04ac1a7",
   "metadata": {},
   "outputs": [],
   "source": [
    "mae, mse, rmse = obtener_errores(y_test, y_pred)\n",
    "\n",
    "print(\"Error cuadrático medio (MSE) del modelo: \" + str(mse))\n",
    "print(\"Error absoluto medio (MAE) del modelo: \" + str(mae))\n",
    "print(\"Raíz del error cuadrático medio (RMSE) del modelo: \" + str(rmse))"
   ]
  }
 ],
 "metadata": {
  "kernelspec": {
   "display_name": "Python 3 (ipykernel)",
   "language": "python",
   "name": "python3"
  },
  "language_info": {
   "codemirror_mode": {
    "name": "ipython",
    "version": 3
   },
   "file_extension": ".py",
   "mimetype": "text/x-python",
   "name": "python",
   "nbconvert_exporter": "python",
   "pygments_lexer": "ipython3",
   "version": "3.8.18"
  }
 },
 "nbformat": 4,
 "nbformat_minor": 5
}
