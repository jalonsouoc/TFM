{
 "cells": [
  {
   "cell_type": "code",
   "execution_count": 134,
   "id": "e848d24c",
   "metadata": {},
   "outputs": [],
   "source": [
    "# Carga inicial de librerías\n",
    "import pandas as pd\n",
    "import numpy as np\n",
    "import matplotlib.pyplot as plt\n",
    "from sklearn.preprocessing import MinMaxScaler\n",
    "from keras.models import Sequential\n",
    "from keras.layers import LSTM\n",
    "from keras.layers import Dense"
   ]
  },
  {
   "cell_type": "code",
   "execution_count": 232,
   "id": "e62daf96",
   "metadata": {},
   "outputs": [],
   "source": [
    "def escalar(df):\n",
    "    scaler = MinMaxScaler(feature_range=(0, 1))\n",
    "    df_scaled = scaler.fit_transform(tenerife)\n",
    "    \n",
    "    return df_scaled;\n",
    "\n",
    "def get_x_y_train(train_data, loop_back):\n",
    "    # Split the data into x_train and y_train data sets\n",
    "    # We create a supervised \"problem\"\n",
    "    x_train = []\n",
    "    y_train = []\n",
    "    trainingdatasize = len(train_data) \n",
    "    for i in range(loop_back, trainingdatasize):\n",
    "        #print(i)\n",
    "        #contains loop_back values 0-loop_back\n",
    "        x_train.append(train[i-loop_back: i, 0])    \n",
    "        #contains all other values \n",
    "        y_train.append(train[i, 0]) \n",
    "        \n",
    "    x_train = np.array(x_train)\n",
    "    y_train = np.array(y_train)\n",
    "        \n",
    "    return x_train, y_train\n",
    "\n",
    "def get_x_y_test(test_data, loop_back):\n",
    "    # Create the data sets x_test and y_test\n",
    "    x_test = []\n",
    "    y_test = []\n",
    "    #y_test = npdataset[training_data_length:, :]\n",
    "    #y_test = scaled_data[training_data_length:, :]\n",
    "    testdatasize = len(test_data)\n",
    "    for i in range(loop_back, testdatasize):\n",
    "        x_test.append(test_data[i-loop_back:i, 0])\n",
    "        y_test.append(test_data[i, 0])    \n",
    "\n",
    "    x_test = np.array(x_test)\n",
    "    y_test = np.array(y_test)\n",
    "    \n",
    "    return x_test, y_test\n",
    "\n",
    "\n",
    "def modelo(x_train):\n",
    "    model = Sequential()\n",
    "\n",
    "    # Model with Neurons \n",
    "    # Inputshape = neurons -> Timestamps\n",
    "    neurons= x_train.shape[1]\n",
    "    model.add(LSTM(10, \n",
    "                   activation='relu',\n",
    "                   return_sequences=True,\n",
    "                     input_shape =(x_train.shape[1], 1)))\n",
    "    model.add(LSTM(25, \n",
    "                   activation='relu',\n",
    "                   return_sequences=True)) \n",
    "    model.add(LSTM(10, \n",
    "                   activation='relu',\n",
    "                   return_sequences=False)) \n",
    "    model.add(Dense(5, activation='relu'))\n",
    "    model.add(Dense(1))\n",
    "\n",
    "    model.compile(optimizer='adam', loss='mean_squared_error')\n",
    "    \n",
    "    return model"
   ]
  },
  {
   "cell_type": "code",
   "execution_count": 200,
   "id": "4b5ca31c",
   "metadata": {},
   "outputs": [],
   "source": [
    "# Cargamos los datos de las estaciones de cada una de las islas\n",
    "datos = pd.read_csv('../data/Final/datos_final.csv', header=0)\n",
    "tenerife = datos[datos['isla'] == 'TENERIFE']\n",
    "tenerife = tenerife[['fecha', 'numero_casos']]\n",
    "tenerife = tenerife.set_index('fecha')"
   ]
  },
  {
   "cell_type": "code",
   "execution_count": 201,
   "id": "7a043c01",
   "metadata": {},
   "outputs": [],
   "source": [
    "tenerife_scaled = escalar(tenerife)\n",
    "dias_a_predecir = 10 # Dias a realizar la predicción\n",
    "train_size = len(tenerife) - dias_a_predecir \n",
    "dias_prediccion = 20 # Días anteriores que se tienen en cuenta para cada predicción\n",
    "\n",
    "train = tenerife_scaled[0:train_size, :]\n",
    "test = tenerife_scaled[train_size - dias_a_predecir:, :]"
   ]
  },
  {
   "cell_type": "code",
   "execution_count": 202,
   "id": "a7a5e87b",
   "metadata": {},
   "outputs": [],
   "source": [
    "x_train, y_train = get_x_y_train(train, dias_prediccion)\n",
    "x_train = np.reshape(x_train, (x_train.shape[0], x_train.shape[1], 1))"
   ]
  },
  {
   "cell_type": "code",
   "execution_count": 203,
   "id": "471ae2ce",
   "metadata": {},
   "outputs": [],
   "source": [
    "x_test, y_test = get_x_y_test(test, dias_prediccion)\n",
    "x_test = np.reshape(x_test, (x_test.shape[0], x_test.shape[1], 1))"
   ]
  },
  {
   "cell_type": "code",
   "execution_count": 231,
   "id": "e3130cc9",
   "metadata": {},
   "outputs": [],
   "source": [
    "model = modelo(x_train)"
   ]
  },
  {
   "cell_type": "code",
   "execution_count": 233,
   "id": "8c807914",
   "metadata": {},
   "outputs": [
    {
     "name": "stdout",
     "output_type": "stream",
     "text": [
      "Epoch 1/50\n",
      "206/206 - 4s - loss: 0.0152 - val_loss: 0.0143 - 4s/epoch - 19ms/step\n",
      "Epoch 2/50\n",
      "206/206 - 2s - loss: 0.0134 - val_loss: 0.0078 - 2s/epoch - 8ms/step\n",
      "Epoch 3/50\n",
      "206/206 - 2s - loss: 0.0090 - val_loss: 0.0219 - 2s/epoch - 8ms/step\n",
      "Epoch 4/50\n",
      "206/206 - 2s - loss: 0.0096 - val_loss: 0.0102 - 2s/epoch - 8ms/step\n",
      "Epoch 5/50\n",
      "206/206 - 2s - loss: 0.0085 - val_loss: 0.0440 - 2s/epoch - 8ms/step\n",
      "Epoch 6/50\n",
      "206/206 - 2s - loss: 0.0093 - val_loss: 0.0066 - 2s/epoch - 8ms/step\n",
      "Epoch 7/50\n",
      "206/206 - 2s - loss: 0.0074 - val_loss: 0.0178 - 2s/epoch - 8ms/step\n",
      "Epoch 8/50\n",
      "206/206 - 2s - loss: 0.0079 - val_loss: 0.0172 - 2s/epoch - 8ms/step\n",
      "Epoch 9/50\n",
      "206/206 - 2s - loss: 0.0089 - val_loss: 0.0109 - 2s/epoch - 8ms/step\n",
      "Epoch 10/50\n",
      "206/206 - 2s - loss: 0.0068 - val_loss: 0.0082 - 2s/epoch - 8ms/step\n",
      "Epoch 11/50\n",
      "206/206 - 2s - loss: 0.0074 - val_loss: 0.0067 - 2s/epoch - 8ms/step\n",
      "Epoch 12/50\n",
      "206/206 - 2s - loss: 0.0068 - val_loss: 0.0060 - 2s/epoch - 8ms/step\n",
      "Epoch 13/50\n",
      "206/206 - 2s - loss: 0.0069 - val_loss: 0.0119 - 2s/epoch - 8ms/step\n",
      "Epoch 14/50\n",
      "206/206 - 2s - loss: 0.0067 - val_loss: 0.0123 - 2s/epoch - 8ms/step\n",
      "Epoch 15/50\n",
      "206/206 - 2s - loss: 0.0071 - val_loss: 0.0116 - 2s/epoch - 8ms/step\n",
      "Epoch 16/50\n",
      "206/206 - 2s - loss: 0.0068 - val_loss: 0.0060 - 2s/epoch - 8ms/step\n",
      "Epoch 17/50\n",
      "206/206 - 2s - loss: 0.0069 - val_loss: 0.0069 - 2s/epoch - 8ms/step\n",
      "Epoch 18/50\n",
      "206/206 - 2s - loss: 0.0065 - val_loss: 0.0108 - 2s/epoch - 8ms/step\n",
      "Epoch 19/50\n",
      "206/206 - 2s - loss: 0.0070 - val_loss: 0.0095 - 2s/epoch - 8ms/step\n",
      "Epoch 20/50\n",
      "206/206 - 2s - loss: 0.0068 - val_loss: 0.0117 - 2s/epoch - 8ms/step\n",
      "Epoch 21/50\n",
      "206/206 - 2s - loss: 0.0069 - val_loss: 0.0103 - 2s/epoch - 8ms/step\n",
      "Epoch 22/50\n",
      "206/206 - 2s - loss: 0.0065 - val_loss: 0.0071 - 2s/epoch - 8ms/step\n",
      "Epoch 23/50\n",
      "206/206 - 2s - loss: 0.0069 - val_loss: 0.0089 - 2s/epoch - 8ms/step\n",
      "Epoch 24/50\n",
      "206/206 - 2s - loss: 0.0065 - val_loss: 0.0109 - 2s/epoch - 8ms/step\n",
      "Epoch 25/50\n",
      "206/206 - 2s - loss: 0.0063 - val_loss: 0.0131 - 2s/epoch - 8ms/step\n",
      "Epoch 26/50\n",
      "206/206 - 2s - loss: 0.0062 - val_loss: 0.0066 - 2s/epoch - 8ms/step\n",
      "Epoch 27/50\n",
      "206/206 - 2s - loss: 0.0063 - val_loss: 0.0063 - 2s/epoch - 8ms/step\n",
      "Epoch 28/50\n",
      "206/206 - 2s - loss: 0.0063 - val_loss: 0.0083 - 2s/epoch - 8ms/step\n",
      "Epoch 29/50\n",
      "206/206 - 2s - loss: 0.0059 - val_loss: 0.0086 - 2s/epoch - 8ms/step\n",
      "Epoch 30/50\n",
      "206/206 - 2s - loss: 0.0061 - val_loss: 0.0081 - 2s/epoch - 8ms/step\n",
      "Epoch 31/50\n",
      "206/206 - 2s - loss: 0.0060 - val_loss: 0.0062 - 2s/epoch - 8ms/step\n",
      "Epoch 32/50\n",
      "206/206 - 2s - loss: 0.0067 - val_loss: 0.0065 - 2s/epoch - 8ms/step\n",
      "Epoch 33/50\n",
      "206/206 - 2s - loss: 0.0062 - val_loss: 0.0065 - 2s/epoch - 8ms/step\n",
      "Epoch 34/50\n",
      "206/206 - 2s - loss: 0.0055 - val_loss: 0.0068 - 2s/epoch - 8ms/step\n",
      "Epoch 35/50\n",
      "206/206 - 2s - loss: 0.0060 - val_loss: 0.0068 - 2s/epoch - 8ms/step\n",
      "Epoch 36/50\n",
      "206/206 - 2s - loss: 0.0057 - val_loss: 0.0084 - 2s/epoch - 8ms/step\n",
      "Epoch 37/50\n",
      "206/206 - 2s - loss: 0.0055 - val_loss: 0.0083 - 2s/epoch - 8ms/step\n",
      "Epoch 38/50\n",
      "206/206 - 2s - loss: 0.0059 - val_loss: 0.0072 - 2s/epoch - 8ms/step\n",
      "Epoch 39/50\n",
      "206/206 - 2s - loss: 0.0055 - val_loss: 0.0142 - 2s/epoch - 8ms/step\n",
      "Epoch 40/50\n",
      "206/206 - 2s - loss: 0.0057 - val_loss: 0.0103 - 2s/epoch - 8ms/step\n",
      "Epoch 41/50\n",
      "206/206 - 2s - loss: 0.0055 - val_loss: 0.0086 - 2s/epoch - 8ms/step\n",
      "Epoch 42/50\n",
      "206/206 - 2s - loss: 0.0055 - val_loss: 0.0139 - 2s/epoch - 8ms/step\n",
      "Epoch 43/50\n",
      "206/206 - 2s - loss: 0.0054 - val_loss: 0.0066 - 2s/epoch - 8ms/step\n",
      "Epoch 44/50\n",
      "206/206 - 2s - loss: 0.0056 - val_loss: 0.0105 - 2s/epoch - 8ms/step\n",
      "Epoch 45/50\n",
      "206/206 - 2s - loss: 0.0053 - val_loss: 0.0090 - 2s/epoch - 8ms/step\n",
      "Epoch 46/50\n",
      "206/206 - 2s - loss: 0.0053 - val_loss: 0.0075 - 2s/epoch - 8ms/step\n",
      "Epoch 47/50\n",
      "206/206 - 2s - loss: 0.0054 - val_loss: 0.0093 - 2s/epoch - 8ms/step\n",
      "Epoch 48/50\n",
      "206/206 - 2s - loss: 0.0052 - val_loss: 0.0064 - 2s/epoch - 8ms/step\n",
      "Epoch 49/50\n",
      "206/206 - 2s - loss: 0.0055 - val_loss: 0.0114 - 2s/epoch - 8ms/step\n",
      "Epoch 50/50\n",
      "206/206 - 2s - loss: 0.0052 - val_loss: 0.0084 - 2s/epoch - 8ms/step\n"
     ]
    },
    {
     "data": {
      "text/plain": [
       "<keras.src.callbacks.History at 0x214281c9280>"
      ]
     },
     "execution_count": 233,
     "metadata": {},
     "output_type": "execute_result"
    }
   ],
   "source": [
    "model.fit(x_train,y_train,batch_size=2, epochs=50, validation_data=(x_test, y_test), verbose=2)"
   ]
  },
  {
   "cell_type": "code",
   "execution_count": 223,
   "id": "a4e69276",
   "metadata": {},
   "outputs": [
    {
     "name": "stdout",
     "output_type": "stream",
     "text": [
      "WARNING:tensorflow:6 out of the last 21 calls to <function Model.make_predict_function.<locals>.predict_function at 0x0000021426C5B040> triggered tf.function retracing. Tracing is expensive and the excessive number of tracings could be due to (1) creating @tf.function repeatedly in a loop, (2) passing tensors with different shapes, (3) passing Python objects instead of tensors. For (1), please define your @tf.function outside of the loop. For (2), @tf.function has reduce_retracing=True option that can avoid unnecessary retracing. For (3), please refer to https://www.tensorflow.org/guide/function#controlling_retracing and https://www.tensorflow.org/api_docs/python/tf/function for  more details.\n",
      "1/1 [==============================] - 0s 301ms/step\n"
     ]
    }
   ],
   "source": [
    "y_pred = model.predict(x_test)\n",
    "y_pred = scaler.inverse_transform(predictions)"
   ]
  },
  {
   "cell_type": "code",
   "execution_count": 224,
   "id": "e1f7e1e3",
   "metadata": {},
   "outputs": [
    {
     "data": {
      "text/plain": [
       "array([[1891437.5],\n",
       "       [1946507.6],\n",
       "       [2036180.6],\n",
       "       [2153133.2],\n",
       "       [2204302.2],\n",
       "       [2198820. ],\n",
       "       [2159447.8],\n",
       "       [2139398.8],\n",
       "       [2135896.2],\n",
       "       [2110225.5],\n",
       "       [2074795.6],\n",
       "       [1994202.9],\n",
       "       [1881174.4],\n",
       "       [1743752.5],\n",
       "       [1661248.6],\n",
       "       [1628541.1],\n",
       "       [1625337.1],\n",
       "       [1627337. ],\n",
       "       [1625698.6],\n",
       "       [1585368. ]], dtype=float32)"
      ]
     },
     "execution_count": 224,
     "metadata": {},
     "output_type": "execute_result"
    }
   ],
   "source": [
    "y_pred"
   ]
  },
  {
   "cell_type": "code",
   "execution_count": 217,
   "id": "7a3a2e7e",
   "metadata": {},
   "outputs": [
    {
     "data": {
      "text/plain": [
       "array([[ 904.],\n",
       "       [ 828.],\n",
       "       [ 874.],\n",
       "       [ 394.],\n",
       "       [ 284.],\n",
       "       [1018.],\n",
       "       [1052.],\n",
       "       [ 797.],\n",
       "       [ 588.],\n",
       "       [ 492.],\n",
       "       [ 269.],\n",
       "       [ 193.],\n",
       "       [ 636.],\n",
       "       [ 760.],\n",
       "       [ 716.],\n",
       "       [ 607.],\n",
       "       [ 636.],\n",
       "       [ 266.],\n",
       "       [ 163.],\n",
       "       [ 319.]])"
      ]
     },
     "execution_count": 217,
     "metadata": {},
     "output_type": "execute_result"
    }
   ],
   "source": [
    "test = y_test.reshape(-1,1)\n",
    "test = scaler.inverse_transform(test)\n",
    "test"
   ]
  },
  {
   "cell_type": "code",
   "execution_count": 219,
   "id": "c30f00a9",
   "metadata": {},
   "outputs": [
    {
     "data": {
      "image/png": "[encoded data removed]",
      "text/plain": [
       "<Figure size 1600x600 with 1 Axes>"
      ]
     },
     "metadata": {},
     "output_type": "display_data"
    }
   ],
   "source": [
    "plt.figure(figsize=(16, 6))\n",
    "plt.plot(test, label='Datos reales')\n",
    "plt.plot(y_pred, label='Predicciones')\n",
    "plt.xlabel('Tiempo')\n",
    "plt.ylabel('Valor')\n",
    "plt.title('Predicciones de serie temporal')\n",
    "plt.legend()\n",
    "plt.show()"
   ]
  },
  {
   "cell_type": "code",
   "execution_count": null,
   "id": "61c7c850",
   "metadata": {},
   "outputs": [],
   "source": []
  }
 ],
 "metadata": {
  "kernelspec": {
   "display_name": "Python 3 (ipykernel)",
   "language": "python",
   "name": "python3"
  },
  "language_info": {
   "codemirror_mode": {
    "name": "ipython",
    "version": 3
   },
   "file_extension": ".py",
   "mimetype": "text/x-python",
   "name": "python",
   "nbconvert_exporter": "python",
   "pygments_lexer": "ipython3",
   "version": "3.8.18"
  }
 },
 "nbformat": 4,
 "nbformat_minor": 5
}
